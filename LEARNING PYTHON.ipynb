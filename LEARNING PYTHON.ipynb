{
 "cells": [
  {
   "cell_type": "markdown",
   "id": "d5b6a057-0baf-43fa-9d77-70963aeb3a34",
   "metadata": {},
   "source": [
    "# RELEARNING PYTHON wid MARKDOWN\n",
    "- [Refrence](https://www.youtube.com/watch?v=u1RKh1kQqaE&list=PLKnIA16_Rmvb1RYR-iTA_hzckhdONtSW4&index=1)"
   ]
  },
  {
   "cell_type": "markdown",
   "id": "1c5ee570-bfb0-4d5c-987d-5f876e5d3935",
   "metadata": {
    "jp-MarkdownHeadingCollapsed": true
   },
   "source": [
    "## 1. Taking Input"
   ]
  },
  {
   "cell_type": "markdown",
   "id": "26dc7259-1665-428f-9955-62146f648b1a",
   "metadata": {},
   "source": [
    "<span style=\"color:blue\">Because of dynamic programming requirements we need to take inputs from users, and in Python <code>input()</code> handles it.</span>\n"
   ]
  },
  {
   "cell_type": "code",
   "execution_count": 10,
   "id": "843c7845-70ba-4bad-a9a1-d8cc441f6057",
   "metadata": {},
   "outputs": [
    {
     "name": "stdin",
     "output_type": "stream",
     "text": [
      " 2\n"
     ]
    },
    {
     "data": {
      "text/plain": [
       "'2'"
      ]
     },
     "execution_count": 10,
     "metadata": {},
     "output_type": "execute_result"
    }
   ],
   "source": [
    "input() #But it doesnt declare what to input to user"
   ]
  },
  {
   "cell_type": "code",
   "execution_count": 11,
   "id": "d4db47a8-3c5f-42cb-874c-3a82ce456a1f",
   "metadata": {},
   "outputs": [
    {
     "name": "stdin",
     "output_type": "stream",
     "text": [
      "HEY ENTER SOMETHING 21\n"
     ]
    },
    {
     "data": {
      "text/plain": [
       "'21'"
      ]
     },
     "execution_count": 11,
     "metadata": {},
     "output_type": "execute_result"
    }
   ],
   "source": [
    "input(\"HEY ENTER SOMETHING\") #Now this gives a gist of what to enter"
   ]
  },
  {
   "cell_type": "markdown",
   "id": "20dc09b6-5a38-406c-8746-bbce9a0e0862",
   "metadata": {},
   "source": [
    "<span style=\"color:blue\">Now you can even store this in <code>`vairables`<code><span>"
   ]
  },
  {
   "cell_type": "code",
   "execution_count": 6,
   "id": "b6be6a38-205a-4171-88f1-3e12fa7ad88c",
   "metadata": {},
   "outputs": [
    {
     "name": "stdin",
     "output_type": "stream",
     "text": [
      "Enter number 12\n",
      "Second number 13\n"
     ]
    }
   ],
   "source": [
    "first_num = input(\"Enter number\")\n",
    "second_num = input(\"Second number\")"
   ]
  },
  {
   "cell_type": "code",
   "execution_count": 7,
   "id": "156e7a70-f585-4239-9736-286cdbc65052",
   "metadata": {},
   "outputs": [
    {
     "name": "stdout",
     "output_type": "stream",
     "text": [
      "12 13\n"
     ]
    }
   ],
   "source": [
    "print(first_num, second_num)"
   ]
  },
  {
   "cell_type": "code",
   "execution_count": 12,
   "id": "759f5303-50b5-42e8-8624-f485d5a6fa1b",
   "metadata": {},
   "outputs": [
    {
     "name": "stdout",
     "output_type": "stream",
     "text": [
      "1213\n"
     ]
    }
   ],
   "source": [
    "print(first_num + second_num)"
   ]
  },
  {
   "cell_type": "markdown",
   "id": "aee9f3e8-5976-4a64-88e6-843588cc0b5f",
   "metadata": {},
   "source": [
    "<span style=\"color:green\">It returns wrong addition as any initial input without declaring data type in python is seen as <code>`String`</code>, hence it is important to declare datatype always </span>\n",
    "<span style=\"color:red\">Also string is an universal format as it can take anything as input may it be number,symbol,character etc. That's why the default input datatype is string</span>"
   ]
  },
  {
   "cell_type": "markdown",
   "id": "dc4b6d35-7b93-4c24-935d-b3c6e89df2be",
   "metadata": {},
   "source": [
    "<span style=\"color:blue\">Declaring input datatypes</span>"
   ]
  },
  {
   "cell_type": "markdown",
   "id": "2335ade7-68d7-402b-991c-797857abda79",
   "metadata": {},
   "source": [
    "- For the same lets say we have to add two numbers one is `5` and another `3.4`, Without declaring there datatype if we try to do addition python automatically `IMPLICITLY` does convert to Float the final output too\n",
    "- Another example can be adding `4` , `3` & `5j` python automatically gives final output as a complex number "
   ]
  },
  {
   "cell_type": "code",
   "execution_count": 14,
   "id": "833998a2-6705-46f9-8c26-04b015ac8dc1",
   "metadata": {},
   "outputs": [
    {
     "data": {
      "text/plain": [
       "(7+5j)"
      ]
     },
     "execution_count": 14,
     "metadata": {},
     "output_type": "execute_result"
    }
   ],
   "source": [
    "4 + 3 + 5j"
   ]
  },
  {
   "cell_type": "markdown",
   "id": "fac3aa58-6c4c-4381-8021-ffd596f44df0",
   "metadata": {},
   "source": [
    "- Now if we want to `EXPLICITLY` declare the data type we have to mention them like"
   ]
  },
  {
   "cell_type": "code",
   "execution_count": 16,
   "id": "dd49900b-a7dd-4ecf-8a1d-8c7dcdca0573",
   "metadata": {},
   "outputs": [
    {
     "name": "stdin",
     "output_type": "stream",
     "text": [
      "First number 12\n",
      "Second number 13\n"
     ]
    },
    {
     "name": "stdout",
     "output_type": "stream",
     "text": [
      "25\n"
     ]
    }
   ],
   "source": [
    "first_num = int(input(\"First number\"))\n",
    "second_num = int(input(\"Second number\"))\n",
    "print(first_num + second_num)"
   ]
  },
  {
   "cell_type": "markdown",
   "id": "45b0e792-855c-4b75-9e8a-5df66eff59b1",
   "metadata": {
    "jp-MarkdownHeadingCollapsed": true
   },
   "source": [
    "## 2. Literals"
   ]
  },
  {
   "cell_type": "markdown",
   "id": "8efa8aaf-ec41-46f6-826c-250786efeffa",
   "metadata": {},
   "source": [
    "Literals are fixed value written directly into code. They represent constant values not variables or expressions like\n",
    "- 10 #Integer\n",
    "- 2.14 #Float"
   ]
  },
  {
   "cell_type": "markdown",
   "id": "b72c794d-7fb2-4cef-9aa4-eccfe1029755",
   "metadata": {},
   "source": [
    "### Types of Literals"
   ]
  },
  {
   "cell_type": "markdown",
   "id": "fdd52074-b1ee-4d85-8bd7-6aa0b7abf1d2",
   "metadata": {},
   "source": [
    "1.1) <span style=\"color:blue\">String</span>\n",
    "    - `\"\"` Double-quote\n",
    "    - `''` Single-quote \n",
    "    - `''' '''` Triple-quote for multiple line of code like taking input as a blog\n",
    "    - `u\"unicode_here\"` Infront of a unicode to print symbols emojis etc"
   ]
  },
  {
   "cell_type": "markdown",
   "id": "dd6da33b-1bd4-4464-8531-226697850132",
   "metadata": {},
   "source": [
    "1.2) <span style=\"color:blue\">Boolean</span>\n",
    "   - True\n",
    "   - False"
   ]
  },
  {
   "cell_type": "markdown",
   "id": "d4c32775-3887-47d8-9887-4fac269923a2",
   "metadata": {},
   "source": [
    "1.3) <span style=\"color:blue\">Numerical</span>\n",
    "    - x = 10        # Decimal (base 10)\n",
    "    - y = 0b1010    # Binary (base 2)\n",
    "    - z = 0o12      # Octal (base 8)\n",
    "    - a = 0xA       # Hexadecimal (base 16)"
   ]
  },
  {
   "cell_type": "markdown",
   "id": "a0073cea-6acf-413e-a2b4-f633b55f5f62",
   "metadata": {},
   "source": [
    "1.4) <span style=\"color:blue\">Special Literal</span>\n",
    "    - We use special literal to lets say store value in variable like `Nothing` as we cant always assing `0` for empty variable.\n",
    "    - Also in python variables cant be declare empty with no values hence this Special literal is assigned to them.\n",
    "    - <span style=\"color:teal\"> a = None </span>"
   ]
  },
  {
   "cell_type": "markdown",
   "id": "3bbe0149-196f-4fe6-ab4c-cfa17182178c",
   "metadata": {
    "jp-MarkdownHeadingCollapsed": true
   },
   "source": [
    "## 3. Operators"
   ]
  },
  {
   "cell_type": "markdown",
   "id": "94d4407c-c443-4a7a-af62-52ead76def0b",
   "metadata": {},
   "source": [
    "<span style=\"color:blue\">yada yada... Python supports following operators </span>"
   ]
  },
  {
   "cell_type": "markdown",
   "id": "3a0b8ebc-6d8a-4f29-a0c7-7ba507d942ff",
   "metadata": {
    "jp-MarkdownHeadingCollapsed": true
   },
   "source": [
    "#### 3.1) <span style=\"color:blue\">Arithematic </span>"
   ]
  },
  {
   "cell_type": "code",
   "execution_count": null,
   "id": "7d74b664-6122-481a-a4ce-abbe70be0bf4",
   "metadata": {},
   "outputs": [],
   "source": [
    "x = 5\n",
    "y = 2"
   ]
  },
  {
   "cell_type": "markdown",
   "id": "7879d67a-9e6c-486c-8f64-330aa1b367cf",
   "metadata": {},
   "source": [
    "3.1.1) <span style=\"color:blue\">Addition `+`</span>"
   ]
  },
  {
   "cell_type": "code",
   "execution_count": 20,
   "id": "92896b7a-e7c1-4fe6-bfb8-03fb779c52ed",
   "metadata": {},
   "outputs": [
    {
     "data": {
      "text/plain": [
       "7"
      ]
     },
     "execution_count": 20,
     "metadata": {},
     "output_type": "execute_result"
    }
   ],
   "source": [
    "x + y"
   ]
  },
  {
   "cell_type": "markdown",
   "id": "03698a3d-1e1f-46be-9789-d37ef579180b",
   "metadata": {},
   "source": [
    "3.1.2) <span style=\"color:blue\">Substraction `-`</span>"
   ]
  },
  {
   "cell_type": "code",
   "execution_count": 24,
   "id": "97ef24f2-e726-45bf-be72-0a6fb46ef9ac",
   "metadata": {},
   "outputs": [
    {
     "data": {
      "text/plain": [
       "3"
      ]
     },
     "execution_count": 24,
     "metadata": {},
     "output_type": "execute_result"
    }
   ],
   "source": [
    "x - y"
   ]
  },
  {
   "cell_type": "markdown",
   "id": "bc7e8e55-f95a-4c92-ada0-2639160d6d82",
   "metadata": {},
   "source": [
    "3.1.3) <span style=\"color:blue\">Multiplication `*`</span>"
   ]
  },
  {
   "cell_type": "code",
   "execution_count": 25,
   "id": "a7095e94-48a8-40c9-913e-937fc5ad0597",
   "metadata": {},
   "outputs": [
    {
     "data": {
      "text/plain": [
       "10"
      ]
     },
     "execution_count": 25,
     "metadata": {},
     "output_type": "execute_result"
    }
   ],
   "source": [
    "x * y"
   ]
  },
  {
   "cell_type": "markdown",
   "id": "965cc400-632f-4dbd-9748-8529df095589",
   "metadata": {},
   "source": [
    "3.1.4) <span style=\"color:blue\">True Division `/`</span>"
   ]
  },
  {
   "cell_type": "code",
   "execution_count": 26,
   "id": "4175f2a4-0599-4902-989e-af01a2e3beaf",
   "metadata": {},
   "outputs": [
    {
     "data": {
      "text/plain": [
       "2.5"
      ]
     },
     "execution_count": 26,
     "metadata": {},
     "output_type": "execute_result"
    }
   ],
   "source": [
    "x / y"
   ]
  },
  {
   "cell_type": "markdown",
   "id": "f2d0dae0-8017-4ad9-8281-f0ad953c0721",
   "metadata": {},
   "source": [
    "3.1.5) <span style=\"color:blue\">Modulus `%`</span>"
   ]
  },
  {
   "cell_type": "code",
   "execution_count": 27,
   "id": "81d9ab4e-daad-46f7-aa14-cda3f0f9dc80",
   "metadata": {},
   "outputs": [
    {
     "data": {
      "text/plain": [
       "1"
      ]
     },
     "execution_count": 27,
     "metadata": {},
     "output_type": "execute_result"
    }
   ],
   "source": [
    "x % y"
   ]
  },
  {
   "cell_type": "markdown",
   "id": "c9d776fc-a269-43d1-ae19-ba603cb4e7e8",
   "metadata": {},
   "source": [
    "3.1.6) <span style=\"color:blue\">Raise to power `**`</span>"
   ]
  },
  {
   "cell_type": "code",
   "execution_count": 28,
   "id": "c6795a48-8ad6-4ac9-9411-af585c1a47e1",
   "metadata": {},
   "outputs": [
    {
     "data": {
      "text/plain": [
       "25"
      ]
     },
     "execution_count": 28,
     "metadata": {},
     "output_type": "execute_result"
    }
   ],
   "source": [
    "x ** y"
   ]
  },
  {
   "cell_type": "markdown",
   "id": "083a2b00-9456-4982-980f-2f31441eb63d",
   "metadata": {},
   "source": [
    "3.1.7) <span style=\"color:blue\">Integer Division `//`</span>"
   ]
  },
  {
   "cell_type": "code",
   "execution_count": 30,
   "id": "9672849b-3035-4d28-b6a0-3e9db2df5b12",
   "metadata": {},
   "outputs": [
    {
     "data": {
      "text/plain": [
       "2"
      ]
     },
     "execution_count": 30,
     "metadata": {},
     "output_type": "execute_result"
    }
   ],
   "source": [
    "x // y #Rounds off to the nearest integer after division"
   ]
  },
  {
   "cell_type": "markdown",
   "id": "9b0180ad-d1c0-47c8-bfbd-b88c1ece4491",
   "metadata": {
    "jp-MarkdownHeadingCollapsed": true
   },
   "source": [
    "#### 3.2)<span style=\"color:blue\">Comparison </span>"
   ]
  },
  {
   "cell_type": "code",
   "execution_count": 31,
   "id": "46ff59f6-05f5-4513-b76b-cc1d5194eb3e",
   "metadata": {},
   "outputs": [
    {
     "name": "stdout",
     "output_type": "stream",
     "text": [
      "True\n"
     ]
    }
   ],
   "source": [
    "print(x>y)"
   ]
  },
  {
   "cell_type": "code",
   "execution_count": 37,
   "id": "a17c24bd-6c05-423e-9930-5b2b1ff41159",
   "metadata": {},
   "outputs": [
    {
     "name": "stdout",
     "output_type": "stream",
     "text": [
      "True\n"
     ]
    }
   ],
   "source": [
    "print(x>=y)"
   ]
  },
  {
   "cell_type": "code",
   "execution_count": 33,
   "id": "d37f86db-4d33-4406-a1cb-08d9269a675e",
   "metadata": {},
   "outputs": [
    {
     "name": "stdout",
     "output_type": "stream",
     "text": [
      "False\n"
     ]
    }
   ],
   "source": [
    "print(x<y)"
   ]
  },
  {
   "cell_type": "code",
   "execution_count": 38,
   "id": "c0552b25-0fad-4df9-a71b-7584727efe08",
   "metadata": {},
   "outputs": [
    {
     "name": "stdout",
     "output_type": "stream",
     "text": [
      "False\n"
     ]
    }
   ],
   "source": [
    "print(x<=y)"
   ]
  },
  {
   "cell_type": "code",
   "execution_count": 35,
   "id": "8e77b5af-b0a5-4f1c-b222-a97ffc2c8106",
   "metadata": {},
   "outputs": [
    {
     "name": "stdout",
     "output_type": "stream",
     "text": [
      "False\n"
     ]
    }
   ],
   "source": [
    "print(x==y)"
   ]
  },
  {
   "cell_type": "code",
   "execution_count": 36,
   "id": "863ff0da-6da6-4797-a8ae-44cd6adbeccc",
   "metadata": {},
   "outputs": [
    {
     "name": "stdout",
     "output_type": "stream",
     "text": [
      "True\n"
     ]
    }
   ],
   "source": [
    "print(x!=y)"
   ]
  },
  {
   "cell_type": "markdown",
   "id": "5779d4ce-ede4-40e9-9812-928381e7fd16",
   "metadata": {
    "jp-MarkdownHeadingCollapsed": true
   },
   "source": [
    "#### 3.3)<span style=\"color:blue\">Logical </span>"
   ]
  },
  {
   "cell_type": "code",
   "execution_count": 39,
   "id": "a5c825c3-c351-4c9d-a88d-1b2dbcac7012",
   "metadata": {},
   "outputs": [],
   "source": [
    "x = True\n",
    "y = False"
   ]
  },
  {
   "cell_type": "code",
   "execution_count": 40,
   "id": "45e9fa05-6d16-45df-89cd-0c00dbb84b45",
   "metadata": {},
   "outputs": [
    {
     "data": {
      "text/plain": [
       "True"
      ]
     },
     "execution_count": 40,
     "metadata": {},
     "output_type": "execute_result"
    }
   ],
   "source": [
    "x or y"
   ]
  },
  {
   "cell_type": "code",
   "execution_count": 41,
   "id": "71306d68-07b3-4835-a2b0-acdee2830dee",
   "metadata": {},
   "outputs": [
    {
     "data": {
      "text/plain": [
       "False"
      ]
     },
     "execution_count": 41,
     "metadata": {},
     "output_type": "execute_result"
    }
   ],
   "source": [
    "x and y"
   ]
  },
  {
   "cell_type": "code",
   "execution_count": 42,
   "id": "322d0ede-fd58-492b-8ec4-e303076ffa16",
   "metadata": {},
   "outputs": [
    {
     "data": {
      "text/plain": [
       "False"
      ]
     },
     "execution_count": 42,
     "metadata": {},
     "output_type": "execute_result"
    }
   ],
   "source": [
    "not x"
   ]
  },
  {
   "cell_type": "markdown",
   "id": "5bb9d2a6-75f0-470b-85b8-df6b7417e1eb",
   "metadata": {
    "jp-MarkdownHeadingCollapsed": true
   },
   "source": [
    "#### 3.4)<span style=\"color:blue\">Bitwise </span>"
   ]
  },
  {
   "cell_type": "markdown",
   "id": "6c1e9387-deec-470a-8a0a-8313aaf5671b",
   "metadata": {},
   "source": [
    "They always work on binary operator"
   ]
  },
  {
   "cell_type": "code",
   "execution_count": 45,
   "id": "bbf84023-c174-42aa-8014-9d746f13aa8f",
   "metadata": {},
   "outputs": [],
   "source": [
    "x = 2 #010\n",
    "y = 3 #011"
   ]
  },
  {
   "cell_type": "code",
   "execution_count": 46,
   "id": "e61994a2-77b8-414d-9aed-279cfa74062f",
   "metadata": {},
   "outputs": [
    {
     "data": {
      "text/plain": [
       "2"
      ]
     },
     "execution_count": 46,
     "metadata": {},
     "output_type": "execute_result"
    }
   ],
   "source": [
    "x & y #Bitwise and"
   ]
  },
  {
   "cell_type": "markdown",
   "id": "7c892df1-da6e-43c4-b7d5-619a3c5e5def",
   "metadata": {},
   "source": [
    "var|  |  |  |\n",
    "|---|---|---|---|\n",
    "| x | 0 | 1 | 0 |\n",
    "| y | 0 | 1 | 1 |\n",
    "|-- |-- |-- |-- |\n",
    "|x&y| 0 | 1 | 0 |\n",
    "\n"
   ]
  },
  {
   "cell_type": "code",
   "execution_count": 47,
   "id": "b23efdbf-1bdf-4feb-8d4c-b821d5e13590",
   "metadata": {},
   "outputs": [
    {
     "data": {
      "text/plain": [
       "3"
      ]
     },
     "execution_count": 47,
     "metadata": {},
     "output_type": "execute_result"
    }
   ],
   "source": [
    "x | y"
   ]
  },
  {
   "cell_type": "markdown",
   "id": "4e666a19-a4f0-4c1f-995b-f10c8cf4b6cb",
   "metadata": {},
   "source": [
    "var|  |  |  |\n",
    "|---|---|---|---|\n",
    "| x | 0 | 1 | 0 |\n",
    "| y | 0 | 1 | 1 |\n",
    "|-- |-- |-- |-- |\n",
    "|x&y| 0 | 1 | 1 |"
   ]
  },
  {
   "cell_type": "code",
   "execution_count": 49,
   "id": "fc8b4b66-7797-4952-8f22-30809ee858ca",
   "metadata": {},
   "outputs": [
    {
     "data": {
      "text/plain": [
       "0"
      ]
     },
     "execution_count": 49,
     "metadata": {},
     "output_type": "execute_result"
    }
   ],
   "source": [
    "x >> 2 #Right Shift ...Gets Devided by 2"
   ]
  },
  {
   "cell_type": "code",
   "execution_count": 50,
   "id": "774c676a-e039-4163-a6c5-4f6daa35b958",
   "metadata": {},
   "outputs": [
    {
     "data": {
      "text/plain": [
       "24"
      ]
     },
     "execution_count": 50,
     "metadata": {},
     "output_type": "execute_result"
    }
   ],
   "source": [
    "y << 3 #Left Shift ...Gets Multiplied by 2"
   ]
  },
  {
   "cell_type": "code",
   "execution_count": 51,
   "id": "64da7912-86a0-4b83-95ed-5dfb10d3498d",
   "metadata": {},
   "outputs": [
    {
     "data": {
      "text/plain": [
       "-3"
      ]
     },
     "execution_count": 51,
     "metadata": {},
     "output_type": "execute_result"
    }
   ],
   "source": [
    "~x #One's Compliment ...1 becomes 0, 0 becomes 1"
   ]
  },
  {
   "cell_type": "markdown",
   "id": "b9288398-f3fd-42af-93fd-b7a7e7fd2815",
   "metadata": {
    "jp-MarkdownHeadingCollapsed": true
   },
   "source": [
    "#### 3.5)<span style=\"color:blue\">Assignment</span>"
   ]
  },
  {
   "cell_type": "code",
   "execution_count": 59,
   "id": "d77ae7ce-53c1-4c65-acc9-e90de91edd2a",
   "metadata": {},
   "outputs": [
    {
     "data": {
      "text/plain": [
       "3"
      ]
     },
     "execution_count": 59,
     "metadata": {},
     "output_type": "execute_result"
    }
   ],
   "source": [
    "a = 3\n",
    "a"
   ]
  },
  {
   "cell_type": "code",
   "execution_count": 60,
   "id": "cfae1ed4-dc78-47da-a799-7c732fc20590",
   "metadata": {},
   "outputs": [
    {
     "data": {
      "text/plain": [
       "6"
      ]
     },
     "execution_count": 60,
     "metadata": {},
     "output_type": "execute_result"
    }
   ],
   "source": [
    "a += 3 #increament\n",
    "a"
   ]
  },
  {
   "cell_type": "code",
   "execution_count": 61,
   "id": "f686aa8e-6e50-4f11-953a-c31bb19d6720",
   "metadata": {},
   "outputs": [
    {
     "data": {
      "text/plain": [
       "2"
      ]
     },
     "execution_count": 61,
     "metadata": {},
     "output_type": "execute_result"
    }
   ],
   "source": [
    "a -= 4 #decreament\n",
    "a"
   ]
  },
  {
   "cell_type": "code",
   "execution_count": 62,
   "id": "8ff86334-187b-4a04-b742-0dea21263bbb",
   "metadata": {},
   "outputs": [
    {
     "data": {
      "text/plain": [
       "2"
      ]
     },
     "execution_count": 62,
     "metadata": {},
     "output_type": "execute_result"
    }
   ],
   "source": [
    "a &= 3\n",
    "a"
   ]
  },
  {
   "cell_type": "markdown",
   "id": "244468c8-3817-473f-9446-6e2faf8f979c",
   "metadata": {
    "jp-MarkdownHeadingCollapsed": true
   },
   "source": [
    "#### 3.6)<span style=\"color:blue\">Identity</span>"
   ]
  },
  {
   "cell_type": "markdown",
   "id": "64cae0b5-ab07-411b-ae4a-adda19a2ab7e",
   "metadata": {},
   "source": [
    "<span style=\"color:red\">Following checks if a and b are at same memory location ie: `is` </span>"
   ]
  },
  {
   "cell_type": "code",
   "execution_count": 75,
   "id": "7399dc85-d949-4f29-ad71-cd77084350ac",
   "metadata": {},
   "outputs": [
    {
     "name": "stdout",
     "output_type": "stream",
     "text": [
      "False\n",
      "True\n"
     ]
    }
   ],
   "source": [
    "a = 2\n",
    "b = 3\n",
    "c = 2\n",
    "print(a is b)\n",
    "print(a is c)"
   ]
  },
  {
   "cell_type": "code",
   "execution_count": 76,
   "id": "d181370d-7c4c-44d4-8c1c-50c6f6883bcc",
   "metadata": {},
   "outputs": [
    {
     "name": "stdout",
     "output_type": "stream",
     "text": [
      "True\n"
     ]
    }
   ],
   "source": [
    "a = \"Hello\"\n",
    "b = \"Hello\"\n",
    "print ( a is b)"
   ]
  },
  {
   "cell_type": "code",
   "execution_count": 77,
   "id": "07c65a98-5064-4822-9441-b44095474a33",
   "metadata": {},
   "outputs": [
    {
     "name": "stdout",
     "output_type": "stream",
     "text": [
      "False\n"
     ]
    }
   ],
   "source": [
    "a = [1,2,3]\n",
    "b = [1,2,3]\n",
    "print(a is b)"
   ]
  },
  {
   "cell_type": "markdown",
   "id": "c36fdf1c-800e-4120-a09d-d5a37427678f",
   "metadata": {},
   "source": [
    "<span style=\"color:red\">**This also implies that even though a and b are same still they need not to be at same location everytime**</span>"
   ]
  },
  {
   "cell_type": "markdown",
   "id": "765a387c-d3fb-4fa2-adf8-88086de57734",
   "metadata": {
    "jp-MarkdownHeadingCollapsed": true
   },
   "source": [
    "#### 3.7)<span style=\"color:blue\">Membership</span>"
   ]
  },
  {
   "cell_type": "code",
   "execution_count": 78,
   "id": "74ea661a-2f04-49ad-a18b-884e34210dbf",
   "metadata": {},
   "outputs": [
    {
     "name": "stdout",
     "output_type": "stream",
     "text": [
      "True\n",
      "False\n"
     ]
    }
   ],
   "source": [
    "a = [1,2,3,4,5,6]\n",
    "print(3 in a)\n",
    "print(99 in a)"
   ]
  },
  {
   "cell_type": "markdown",
   "id": "cbf23233-9fe4-484f-9238-98ba66277094",
   "metadata": {
    "jp-MarkdownHeadingCollapsed": true
   },
   "source": [
    "## 4. if-else"
   ]
  },
  {
   "cell_type": "markdown",
   "id": "53ae39b4-adb8-4ce7-883d-a3a5d9d55982",
   "metadata": {},
   "source": [
    "<span style=\"color:red\"> `if` starts a new check, `else` means *if* is if not possible then it is to be run WHEREAS `elif` means if not above condition then try this condition... \n",
    "</span>"
   ]
  },
  {
   "cell_type": "code",
   "execution_count": 3,
   "id": "d9d875ed-120a-4483-853a-be8825f1542d",
   "metadata": {},
   "outputs": [
    {
     "name": "stdin",
     "output_type": "stream",
     "text": [
      "Enter your email xyz@gmail.com\n",
      "Enter your psd 1234\n"
     ]
    }
   ],
   "source": [
    "email = input(\"Enter your email\")\n",
    "psd = input(\"Enter your psd\")"
   ]
  },
  {
   "cell_type": "code",
   "execution_count": 4,
   "id": "53f2aee0-0d48-46de-8425-e5da5a05ddc4",
   "metadata": {},
   "outputs": [
    {
     "name": "stdout",
     "output_type": "stream",
     "text": [
      "Welcome user\n"
     ]
    }
   ],
   "source": [
    "if email == \"xyz@gmail.com\" and psd == \"1234\":\n",
    "    print(\"Welcome user\")\n",
    "elif email == \"abc@gmail.com\" and psd == \"5678\":\n",
    "    print(\"Welcome Dev\")\n",
    "else:\n",
    "    print(\"YOU ARE NOT AUTHORISED\")"
   ]
  },
  {
   "cell_type": "markdown",
   "id": "9692ec6c-f885-4f66-a9d2-d1d97c338779",
   "metadata": {},
   "source": [
    "<span style=\"color:red\"> Short `if` (Ternary Expression) </span>"
   ]
  },
  {
   "cell_type": "code",
   "execution_count": 8,
   "id": "9ef66109-8ca8-4853-a4c0-5918cf8a00c9",
   "metadata": {},
   "outputs": [
    {
     "name": "stdin",
     "output_type": "stream",
     "text": [
      "Enter your mode 1\n"
     ]
    },
    {
     "name": "stdout",
     "output_type": "stream",
     "text": [
      "DEV\n"
     ]
    }
   ],
   "source": [
    "option = \"DEV\" if input(\"Enter your mode\") == \"1\" else \"USER\"\n",
    "print(option)"
   ]
  },
  {
   "cell_type": "markdown",
   "id": "92f5565c-eea5-433f-849c-598ada92c548",
   "metadata": {
    "jp-MarkdownHeadingCollapsed": true
   },
   "source": [
    "## 5. Loops / Iteration Control Blocks"
   ]
  },
  {
   "cell_type": "markdown",
   "id": "975979cf-2413-460a-ba48-9307f07d4ff4",
   "metadata": {},
   "source": [
    "<span style=\"color:red\"> *Example* :  <span>\n",
    "1) Lets say we are designing a website which shows products in containers and every container holds 5 lines worth same categorical information.\n",
    "2) Now if that website has 5000 products listed then the web-dev will need to make 5000 containers which is fine.\n",
    "3) But, with every new product being added we will have to create newer containers which feels like \"Gadha Majduri\"\n",
    "4) Instead we can rather use Loops or iteration control block to automatically call number of blocks parallel to number of products.\n",
    "~ Your Code will fetch data from database and print containers with information number of times the product is fetched"
   ]
  },
  {
   "cell_type": "markdown",
   "id": "b24ae4a5-d40c-430c-b9ea-97208df503c4",
   "metadata": {
    "jp-MarkdownHeadingCollapsed": true
   },
   "source": [
    "#### <span style=\"color:blue\"> 5.1) While </span>"
   ]
  },
  {
   "cell_type": "code",
   "execution_count": null,
   "id": "3f2032c4-94f4-4bda-96ac-29190ed0fb07",
   "metadata": {},
   "outputs": [],
   "source": [
    "while(condition){\n",
    "    code \n",
    "}\n",
    "    #OR\n",
    "while condition:\n",
    "    code"
   ]
  },
  {
   "cell_type": "code",
   "execution_count": 4,
   "id": "67a8b0c1-fc4c-463f-a7b9-01276f783347",
   "metadata": {},
   "outputs": [
    {
     "name": "stdin",
     "output_type": "stream",
     "text": [
      "Enter your number 6\n"
     ]
    },
    {
     "name": "stdout",
     "output_type": "stream",
     "text": [
      "6 x 1 's are 6\n",
      "6 x 2 's are 12\n",
      "6 x 3 's are 18\n",
      "6 x 4 's are 24\n",
      "6 x 5 's are 30\n",
      "6 x 6 's are 36\n",
      "6 x 7 's are 42\n",
      "6 x 8 's are 48\n",
      "6 x 9 's are 54\n",
      "6 x 10 's are 60\n"
     ]
    }
   ],
   "source": [
    "#Example: WAP to print 11's tabel\n",
    "a = int(input(\"Enter your number\"))\n",
    "i = 1\n",
    "mult = a\n",
    "while i != 11:\n",
    "    print(f\"{a} x {i} 's are {i*a}\")\n",
    "    i += 1"
   ]
  },
  {
   "cell_type": "markdown",
   "id": "f7869435-229e-424f-b1af-8f0a689e77b8",
   "metadata": {
    "jp-MarkdownHeadingCollapsed": true
   },
   "source": [
    "#### <span style = \"color: green\">Prob 1) GUESSING GAME </span>"
   ]
  },
  {
   "cell_type": "markdown",
   "id": "52957d4c-9dbe-4ddf-ab79-90b4ea92c34e",
   "metadata": {},
   "source": [
    "WAP a prog for guessing game\n",
    "- The Programme should assign a random number from 1 to 100 (Lottery_num).\n",
    "- User should guess that number by entering it.\n",
    "    - If `Guessed_num > Lottery_num` prints `Guess Lower`.\n",
    "    - If `Guessed_num < Lottery_num` print `Guess Higher`.\n",
    "    - If `Guessed_num == Lottery_num` print `Bingo!!!`.\n",
    "- Atlast record number of tries it took to guess the number rightly."
   ]
  },
  {
   "cell_type": "code",
   "execution_count": 18,
   "id": "6242475a-bb1c-4529-8e56-fb79f7170297",
   "metadata": {},
   "outputs": [
    {
     "name": "stdin",
     "output_type": "stream",
     "text": [
      "Guess the number 50\n"
     ]
    },
    {
     "name": "stdout",
     "output_type": "stream",
     "text": [
      "Guess Lower\n"
     ]
    },
    {
     "name": "stdin",
     "output_type": "stream",
     "text": [
      "Guess the number 30\n"
     ]
    },
    {
     "name": "stdout",
     "output_type": "stream",
     "text": [
      "Guess Lower\n"
     ]
    },
    {
     "name": "stdin",
     "output_type": "stream",
     "text": [
      "Guess the number 15\n"
     ]
    },
    {
     "name": "stdout",
     "output_type": "stream",
     "text": [
      "Guess Higher\n"
     ]
    },
    {
     "name": "stdin",
     "output_type": "stream",
     "text": [
      "Guess the number 25\n"
     ]
    },
    {
     "name": "stdout",
     "output_type": "stream",
     "text": [
      "Guess Lower\n"
     ]
    },
    {
     "name": "stdin",
     "output_type": "stream",
     "text": [
      "Guess the number 17\n"
     ]
    },
    {
     "name": "stdout",
     "output_type": "stream",
     "text": [
      "Guess Higher\n"
     ]
    },
    {
     "name": "stdin",
     "output_type": "stream",
     "text": [
      "Guess the number 21\n"
     ]
    },
    {
     "name": "stdout",
     "output_type": "stream",
     "text": [
      "Guess Higher\n"
     ]
    },
    {
     "name": "stdin",
     "output_type": "stream",
     "text": [
      "Guess the number 23\n"
     ]
    },
    {
     "name": "stdout",
     "output_type": "stream",
     "text": [
      "Guess Lower\n"
     ]
    },
    {
     "name": "stdin",
     "output_type": "stream",
     "text": [
      "Guess the number 22\n"
     ]
    },
    {
     "name": "stdout",
     "output_type": "stream",
     "text": [
      "Guess Higher\n",
      "Bingo!!! you took 8 trials to guess the correct number\n"
     ]
    }
   ],
   "source": [
    "import random\n",
    "Lottery_num = random.randint(1, 100)\n",
    "n = 0\n",
    "while num != Lottery_num:\n",
    "    num = int(input(\"Guess the number\"))\n",
    "    if num > Lottery_num:\n",
    "        print(\"Guess Lower\")\n",
    "    else:\n",
    "        print(\"Guess Higher\")\n",
    "    n += 1\n",
    "print(f\"Bingo!!! you took {n} trials to guess the correct number\")"
   ]
  },
  {
   "cell_type": "markdown",
   "id": "0e25c3e0-20e0-468d-8c1a-f8ec1e5eb9bf",
   "metadata": {},
   "source": []
  },
  {
   "cell_type": "markdown",
   "id": "7d30ae4c-3c17-49f5-8e39-865cb9280851",
   "metadata": {
    "jp-MarkdownHeadingCollapsed": true
   },
   "source": [
    "#### <span style=\"color:blue\"> 5.2) For Loop </span>"
   ]
  },
  {
   "cell_type": "markdown",
   "id": "6efca9c3-5fa5-4ea4-8477-517e78ed0a07",
   "metadata": {
    "jp-MarkdownHeadingCollapsed": true
   },
   "source": [
    "#### <span style = \"color : blue\"> **Range Function** </span>"
   ]
  },
  {
   "cell_type": "markdown",
   "id": "94d40c9d-c951-4fb5-96ae-a68b04584061",
   "metadata": {},
   "source": [
    " <span style = \"color: blue\"> `range(a,b,c)` *where **a** is start , **b** is stop, **c** is step* </span>"
   ]
  },
  {
   "cell_type": "code",
   "execution_count": 22,
   "id": "0bfa3d1d-04d7-44bb-a090-c04719ab770d",
   "metadata": {},
   "outputs": [
    {
     "data": {
      "text/plain": [
       "[1, 2, 3, 4, 5, 6, 7, 8, 9]"
      ]
     },
     "execution_count": 22,
     "metadata": {},
     "output_type": "execute_result"
    }
   ],
   "source": [
    "list(range(1,10)) #where 1 is star number and 10 is stop number"
   ]
  },
  {
   "cell_type": "code",
   "execution_count": 23,
   "id": "a750abb6-20e1-4114-8c26-10b37c9823f9",
   "metadata": {},
   "outputs": [
    {
     "data": {
      "text/plain": [
       "[0, 1, 2, 3, 4]"
      ]
     },
     "execution_count": 23,
     "metadata": {},
     "output_type": "execute_result"
    }
   ],
   "source": [
    "list(range(5)) #where 5 is stop"
   ]
  },
  {
   "cell_type": "code",
   "execution_count": 25,
   "id": "5f977fc9-cbae-4637-a60c-3225e3a50293",
   "metadata": {},
   "outputs": [
    {
     "data": {
      "text/plain": [
       "[0, 2, 4, 6, 8, 10]"
      ]
     },
     "execution_count": 25,
     "metadata": {},
     "output_type": "execute_result"
    }
   ],
   "source": [
    "list(range(0,11,2)) #2 is step number"
   ]
  },
  {
   "cell_type": "markdown",
   "id": "65f2b656-3595-4677-ad37-c3feacb17342",
   "metadata": {},
   "source": [
    "**for reverse**"
   ]
  },
  {
   "cell_type": "code",
   "execution_count": 27,
   "id": "cff560ec-6956-4e56-af56-7d97796df70d",
   "metadata": {},
   "outputs": [
    {
     "data": {
      "text/plain": [
       "[10, 9, 8, 7, 6, 5, 4, 3, 2, 1]"
      ]
     },
     "execution_count": 27,
     "metadata": {},
     "output_type": "execute_result"
    }
   ],
   "source": [
    "list(range(10,0,-1))"
   ]
  },
  {
   "cell_type": "markdown",
   "id": "ee24a258-b296-486f-a516-9a2aea07273b",
   "metadata": {},
   "source": [
    "<span style = \"color : red\"> ***range with for*** </span>"
   ]
  },
  {
   "cell_type": "code",
   "execution_count": 31,
   "id": "31e95a96-855d-4628-a504-9d60f7fe4b88",
   "metadata": {},
   "outputs": [
    {
     "name": "stdout",
     "output_type": "stream",
     "text": [
      "10\n",
      "9\n",
      "8\n",
      "7\n",
      "6\n",
      "5\n"
     ]
    }
   ],
   "source": [
    "for i in range(10,4,-1):\n",
    "    print(i)"
   ]
  },
  {
   "cell_type": "markdown",
   "id": "44d2a89f-4dd8-4234-982b-a74b650a8ddc",
   "metadata": {
    "jp-MarkdownHeadingCollapsed": true
   },
   "source": [
    "#### <span style = \"color : blue\"> **Sequence** </span>"
   ]
  },
  {
   "cell_type": "markdown",
   "id": "3bacb7d3-d6a4-4d12-abb8-f9782de8c8be",
   "metadata": {},
   "source": [
    "Anything that comes in order like listn string, tuple is a sequence"
   ]
  },
  {
   "cell_type": "markdown",
   "id": "c92f4ae3-9280-4051-bcc4-3dcf872eaeb8",
   "metadata": {},
   "source": [
    "<span style = \"color:red\"> **Sequence with for** </span>"
   ]
  },
  {
   "cell_type": "code",
   "execution_count": 32,
   "id": "ba331de6-2fe6-4a92-844c-c95cc6e437f2",
   "metadata": {},
   "outputs": [
    {
     "name": "stdout",
     "output_type": "stream",
     "text": [
      "K\n",
      "o\n",
      "l\n",
      "k\n",
      "a\n",
      "t\n",
      "a\n"
     ]
    }
   ],
   "source": [
    "for i in \"Kolkata\":\n",
    "    print(i)"
   ]
  },
  {
   "cell_type": "code",
   "execution_count": 33,
   "id": "289bcc19-bff7-4312-9f5b-7aa7a7086165",
   "metadata": {},
   "outputs": [
    {
     "name": "stdout",
     "output_type": "stream",
     "text": [
      "1\n",
      "2\n",
      "3\n",
      "5\n"
     ]
    }
   ],
   "source": [
    "for i in [1,2,3,5]:\n",
    "    print(i)"
   ]
  },
  {
   "cell_type": "markdown",
   "id": "e27d2879-a1f5-4e99-bd58-8e3d99a4a21c",
   "metadata": {},
   "source": [
    "similar for <span style = \"color : green\"> tupple, sets, etc </span> But differs a little w.r.t <span style = \"color : green\">  dictionary </span> which will be covered later. "
   ]
  },
  {
   "cell_type": "markdown",
   "id": "27e8edc3-9aca-4dd4-9ee6-e90e2ee4fe7c",
   "metadata": {
    "jp-MarkdownHeadingCollapsed": true
   },
   "source": [
    "#### <span style = \"color: purple\">*For most of the times If you know how many times the loop is going to be executed use `for` and If you dont know then prefer `while`*</span>"
   ]
  },
  {
   "cell_type": "markdown",
   "id": "da0e10ca-51be-4f75-91c2-768f75d16637",
   "metadata": {
    "jp-MarkdownHeadingCollapsed": true
   },
   "source": [
    "#### <span style=\"color:blue\"> 5.3) Nested Loop </span>"
   ]
  },
  {
   "cell_type": "markdown",
   "id": "2dbd9b3b-f6e9-4de7-b982-87b3bee2db70",
   "metadata": {},
   "source": [
    "- <span style = \"color : black\"> *The time complexity for nested loops are **$n^2$** for one loop inside another, **$n^3$** for three loops and vice-versa* </span>"
   ]
  },
  {
   "cell_type": "markdown",
   "id": "1006a376-9f4b-4a2e-8bff-81304d230dc9",
   "metadata": {
    "jp-MarkdownHeadingCollapsed": true
   },
   "source": [
    "##### <span style = \"color : green\"> **Pascal's Triangle** *using nested loop* </span>"
   ]
  },
  {
   "cell_type": "markdown",
   "id": "a46b3ca3-5a49-41a3-9519-d48a00c7221c",
   "metadata": {},
   "source": [
    "\n",
    "\\*  \n",
    "\\* *  \n",
    "\\* * *  \n",
    "\\* * * *  \n",
    "\\* * * * *   \n",
    "` "
   ]
  },
  {
   "cell_type": "code",
   "execution_count": 41,
   "id": "68c631d7-7533-4dac-ae40-1c67643f80c0",
   "metadata": {},
   "outputs": [
    {
     "name": "stdin",
     "output_type": "stream",
     "text": [
      "Number of rows 6\n"
     ]
    }
   ],
   "source": [
    "row = int(input(\"Number of rows\"))"
   ]
  },
  {
   "cell_type": "code",
   "execution_count": 45,
   "id": "78bcb0ce-8023-4368-95ee-4d879dda50be",
   "metadata": {},
   "outputs": [
    {
     "name": "stdout",
     "output_type": "stream",
     "text": [
      "* \n",
      "* * \n",
      "* * * \n",
      "* * * * \n",
      "* * * * * \n",
      "* * * * * * \n"
     ]
    }
   ],
   "source": [
    "for i in range(1,row+1):\n",
    "    for j in range(0,i):\n",
    "        print(\"*\",end =\" \")\n",
    "    print(\"\")"
   ]
  },
  {
   "cell_type": "code",
   "execution_count": 46,
   "id": "89a34842-0962-4340-968f-063660eeb53c",
   "metadata": {},
   "outputs": [
    {
     "name": "stdout",
     "output_type": "stream",
     "text": [
      "* \n",
      "* * \n",
      "* * * \n",
      "* * * * \n",
      "* * * * * \n",
      "* * * * * * \n"
     ]
    }
   ],
   "source": [
    "for i in range(1,row+1):\n",
    "    print(i*\"* \")"
   ]
  },
  {
   "cell_type": "code",
   "execution_count": 52,
   "id": "b6c659c1-56be-46af-927c-24a11ba94b07",
   "metadata": {},
   "outputs": [
    {
     "name": "stdout",
     "output_type": "stream",
     "text": [
      "* \n",
      "* * \n",
      "* * * \n",
      "* * * * \n",
      "* * * * * \n",
      "* * * * * * \n",
      "* * * * * * * \n"
     ]
    }
   ],
   "source": [
    "i = 1\n",
    "while i<= row+1:\n",
    "    print(i*\"* \")\n",
    "    i+=1"
   ]
  },
  {
   "cell_type": "code",
   "execution_count": null,
   "id": "ed216d92-6553-42ef-82e7-cc99defc85fd",
   "metadata": {},
   "outputs": [],
   "source": []
  },
  {
   "cell_type": "raw",
   "id": "d6199692-0493-436c-a6e5-6e61cca29448",
   "metadata": {},
   "source": [
    "#### <span style=\"color:blue\"> 5.4) Break, Continue and Pass </span>"
   ]
  },
  {
   "cell_type": "markdown",
   "id": "df3aa2ad-faae-4d2d-859a-fccd9fcbd7fa",
   "metadata": {
    "jp-MarkdownHeadingCollapsed": true
   },
   "source": [
    "##### **`Break`** "
   ]
  },
  {
   "cell_type": "markdown",
   "id": "e19172c7-d06d-4bbf-a407-6c7d867bab98",
   "metadata": {},
   "source": [
    "we use break statement for example in `Linear Search` where when we find desired element we terminate our loop from inside"
   ]
  },
  {
   "cell_type": "code",
   "execution_count": 55,
   "id": "8d050a2a-23b8-4af7-a6eb-2f4dc9bf67d3",
   "metadata": {},
   "outputs": [
    {
     "name": "stdout",
     "output_type": "stream",
     "text": [
      "1\n",
      "2\n",
      "3\n",
      "4\n",
      "5\n"
     ]
    }
   ],
   "source": [
    "for i in range(1,10):\n",
    "    print(i)\n",
    "    if i == 5:\n",
    "        break "
   ]
  },
  {
   "cell_type": "markdown",
   "id": "74e551bb-b192-41ff-9c98-84507da41d92",
   "metadata": {
    "jp-MarkdownHeadingCollapsed": true
   },
   "source": [
    "##### **`Continue`** "
   ]
  },
  {
   "cell_type": "markdown",
   "id": "2345df59-ea9a-4967-91b6-83e893a7b719",
   "metadata": {},
   "source": [
    "- we use continue to skip the loop for met condition , all the statements ahead of continue are skipped\n",
    "- Lets say you have a product display site and if u want to skip displaying any product thats not available."
   ]
  },
  {
   "cell_type": "code",
   "execution_count": 60,
   "id": "cdcbc6b5-0977-4b53-8271-29740c663dbc",
   "metadata": {},
   "outputs": [
    {
     "name": "stdout",
     "output_type": "stream",
     "text": [
      "2\n",
      "3\n",
      "4\n"
     ]
    }
   ],
   "source": [
    "for i in range(1,5):\n",
    "    if i == 1:\n",
    "        continue\n",
    "    print(i)"
   ]
  },
  {
   "cell_type": "markdown",
   "id": "9ae9dd64-f311-43b9-9520-d3621488e6fb",
   "metadata": {
    "jp-MarkdownHeadingCollapsed": true
   },
   "source": [
    "##### **`Pass`** "
   ]
  },
  {
   "cell_type": "markdown",
   "id": "8099d844-9ff5-49f0-9e59-568286816bb7",
   "metadata": {},
   "source": [
    "can be used for part of code that you are right now unsure about"
   ]
  },
  {
   "cell_type": "code",
   "execution_count": 65,
   "id": "7e3c0480-417b-458a-9e4e-d635f0b92823",
   "metadata": {},
   "outputs": [
    {
     "name": "stdout",
     "output_type": "stream",
     "text": [
      "CORRECT\n",
      "WRONG\n"
     ]
    }
   ],
   "source": [
    "for i in range(1,4):\n",
    "    if i == 1:\n",
    "        print(\"CORRECT\")\n",
    "    elif i == 2:\n",
    "        pass #since i didnt know what to print when my i was 2\n",
    "    else:\n",
    "        print(\"WRONG\")"
   ]
  },
  {
   "cell_type": "markdown",
   "id": "1aa5c9f0-7715-4a27-8bf8-160cae596e93",
   "metadata": {
    "jp-MarkdownHeadingCollapsed": true
   },
   "source": [
    "## 6. Built-in Functions"
   ]
  },
  {
   "cell_type": "markdown",
   "id": "de7836ce-b959-449a-a6b9-cd0aba59c643",
   "metadata": {},
   "source": [
    "all those function that are already built in standard python"
   ]
  },
  {
   "cell_type": "markdown",
   "id": "362527ff-36a3-4105-8bb7-81de880ca552",
   "metadata": {
    "jp-MarkdownHeadingCollapsed": true
   },
   "source": [
    "#### 6.1)<span style = \"color: blue\">Type </span>"
   ]
  },
  {
   "cell_type": "markdown",
   "id": "f99abfee-1fc4-492d-aace-b14cd6ceb695",
   "metadata": {},
   "source": [
    "Gives the type of data (i.e str, int, float..."
   ]
  },
  {
   "cell_type": "code",
   "execution_count": 68,
   "id": "fb7d7166-3ad9-4b0a-b165-521ec71f3043",
   "metadata": {},
   "outputs": [
    {
     "data": {
      "text/plain": [
       "str"
      ]
     },
     "execution_count": 68,
     "metadata": {},
     "output_type": "execute_result"
    }
   ],
   "source": [
    "type(\"Hey\")"
   ]
  },
  {
   "cell_type": "markdown",
   "id": "3176e2d9-5d08-4c78-9193-bebdf6378a9b",
   "metadata": {
    "jp-MarkdownHeadingCollapsed": true
   },
   "source": [
    "#### 6.2)<span style = \"color: blue\"> abs </span>"
   ]
  },
  {
   "cell_type": "markdown",
   "id": "19e259d1-8271-4961-8c11-d6e9ff67f263",
   "metadata": {},
   "source": [
    "absolute function is used to convert any number to its absolute number basically acts as `modulus`"
   ]
  },
  {
   "cell_type": "code",
   "execution_count": 72,
   "id": "73b3329b-ea7a-4811-83e3-a1f42842d558",
   "metadata": {},
   "outputs": [
    {
     "name": "stdout",
     "output_type": "stream",
     "text": [
      "9.123\n"
     ]
    }
   ],
   "source": [
    "a = float(-9.123)\n",
    "print(abs(a))"
   ]
  },
  {
   "cell_type": "markdown",
   "id": "8236853c-8222-4036-9c87-4a37c1247d6e",
   "metadata": {
    "jp-MarkdownHeadingCollapsed": true
   },
   "source": [
    "#### 6.3)<span style = \"color: blue\"> power </span>"
   ]
  },
  {
   "cell_type": "code",
   "execution_count": 74,
   "id": "96cb26b1-6df2-4a71-8164-5c2f28abec5b",
   "metadata": {},
   "outputs": [
    {
     "data": {
      "text/plain": [
       "1.4142135623730951"
      ]
     },
     "execution_count": 74,
     "metadata": {},
     "output_type": "execute_result"
    }
   ],
   "source": [
    "pow(2, 1/2)"
   ]
  },
  {
   "cell_type": "markdown",
   "id": "d4eaea68-988e-4d2f-96cf-916e8817d1d6",
   "metadata": {
    "jp-MarkdownHeadingCollapsed": true
   },
   "source": [
    "#### 6.4)<span style = \"color: blue\"> min/max </span>"
   ]
  },
  {
   "cell_type": "code",
   "execution_count": 76,
   "id": "a46187d6-7f62-418a-ad85-9c9bd37dbf76",
   "metadata": {},
   "outputs": [
    {
     "data": {
      "text/plain": [
       "1"
      ]
     },
     "execution_count": 76,
     "metadata": {},
     "output_type": "execute_result"
    }
   ],
   "source": [
    "min([2,3,5,1,3,6,9,43,2])"
   ]
  },
  {
   "cell_type": "code",
   "execution_count": 77,
   "id": "1a2ad7ae-06e3-4337-8621-5be912fcba4a",
   "metadata": {},
   "outputs": [
    {
     "data": {
      "text/plain": [
       "43"
      ]
     },
     "execution_count": 77,
     "metadata": {},
     "output_type": "execute_result"
    }
   ],
   "source": [
    "max([2,3,5,1,3,6,9,43,2])"
   ]
  },
  {
   "cell_type": "code",
   "execution_count": 80,
   "id": "adf3ec47-cdf7-4be9-babf-c97ee8624707",
   "metadata": {},
   "outputs": [
    {
     "data": {
      "text/plain": [
       "'W'"
      ]
     },
     "execution_count": 80,
     "metadata": {},
     "output_type": "execute_result"
    }
   ],
   "source": [
    "min(\"elloWorld\")"
   ]
  },
  {
   "cell_type": "code",
   "execution_count": 81,
   "id": "81e99560-3c31-42cd-9783-eee73004c07f",
   "metadata": {},
   "outputs": [
    {
     "data": {
      "text/plain": [
       "'w'"
      ]
     },
     "execution_count": 81,
     "metadata": {},
     "output_type": "execute_result"
    }
   ],
   "source": [
    "max(\"elloworld\")"
   ]
  },
  {
   "cell_type": "markdown",
   "id": "ea6144e1-10cc-4123-8daa-35063cb4835c",
   "metadata": {
    "jp-MarkdownHeadingCollapsed": true
   },
   "source": [
    "#### 6.5)<span style = \"color: blue\"> round </span>"
   ]
  },
  {
   "cell_type": "markdown",
   "id": "56801faa-5f0e-4ae5-ac76-501bc439a882",
   "metadata": {},
   "source": [
    "rounds off to desired decimal place or int"
   ]
  },
  {
   "cell_type": "code",
   "execution_count": 83,
   "id": "60a92f21-3108-4c49-9c30-32d9e05093e4",
   "metadata": {},
   "outputs": [
    {
     "data": {
      "text/plain": [
       "9.86"
      ]
     },
     "execution_count": 83,
     "metadata": {},
     "output_type": "execute_result"
    }
   ],
   "source": [
    "c = 3.14 * 3.14\n",
    "round(c,3)"
   ]
  },
  {
   "cell_type": "code",
   "execution_count": 85,
   "id": "e52c91d3-629a-4191-8626-98f45ce0d996",
   "metadata": {},
   "outputs": [
    {
     "data": {
      "text/plain": [
       "10"
      ]
     },
     "execution_count": 85,
     "metadata": {},
     "output_type": "execute_result"
    }
   ],
   "source": [
    "round(c)"
   ]
  },
  {
   "cell_type": "markdown",
   "id": "78450126-f175-4503-a69f-eaf3fc90ef0e",
   "metadata": {
    "jp-MarkdownHeadingCollapsed": true
   },
   "source": [
    "#### 6.6)<span style = \"color: blue\"> divmod </span>"
   ]
  },
  {
   "cell_type": "markdown",
   "id": "aee3d585-306d-46a7-8dcf-15fb2203706b",
   "metadata": {},
   "source": [
    "divmod() gives two results first `interger division` and second `remainder` as result"
   ]
  },
  {
   "cell_type": "code",
   "execution_count": 89,
   "id": "70f2f07d-f9bd-44de-81e0-2cc88d110975",
   "metadata": {},
   "outputs": [
    {
     "data": {
      "text/plain": [
       "(2, 2)"
      ]
     },
     "execution_count": 89,
     "metadata": {},
     "output_type": "execute_result"
    }
   ],
   "source": [
    "divmod(8,3)"
   ]
  },
  {
   "cell_type": "markdown",
   "id": "800b9b78-0f60-47ba-92ba-1c867005bdc7",
   "metadata": {
    "jp-MarkdownHeadingCollapsed": true
   },
   "source": [
    "#### 6.7)<span style = \"color: blue\"> bin/oct/hex </span>"
   ]
  },
  {
   "cell_type": "markdown",
   "id": "e91c0fda-5a4c-45cd-8b50-b24c5e99f746",
   "metadata": {},
   "source": [
    "give `binary, octal, hexadecimal` values of input"
   ]
  },
  {
   "cell_type": "code",
   "execution_count": 94,
   "id": "bf51cfd1-20ea-4987-b5d9-f34dc9301e13",
   "metadata": {},
   "outputs": [
    {
     "data": {
      "text/plain": [
       "'0b101000'"
      ]
     },
     "execution_count": 94,
     "metadata": {},
     "output_type": "execute_result"
    }
   ],
   "source": [
    "bin(40)"
   ]
  },
  {
   "cell_type": "code",
   "execution_count": 95,
   "id": "ef1a3962-8614-4368-9744-391a27d36996",
   "metadata": {},
   "outputs": [
    {
     "data": {
      "text/plain": [
       "'0o50'"
      ]
     },
     "execution_count": 95,
     "metadata": {},
     "output_type": "execute_result"
    }
   ],
   "source": [
    "oct(40)"
   ]
  },
  {
   "cell_type": "code",
   "execution_count": 96,
   "id": "1cf372f8-31fb-4ed8-9e6e-2a6e34ee7fde",
   "metadata": {},
   "outputs": [
    {
     "data": {
      "text/plain": [
       "'0x28'"
      ]
     },
     "execution_count": 96,
     "metadata": {},
     "output_type": "execute_result"
    }
   ],
   "source": [
    "hex(40)"
   ]
  },
  {
   "cell_type": "markdown",
   "id": "283f52ba-068e-4888-a0a9-99b0b7ee90aa",
   "metadata": {
    "jp-MarkdownHeadingCollapsed": true
   },
   "source": [
    "#### 6.8)<span style = \"color: blue\"> id </span>"
   ]
  },
  {
   "cell_type": "markdown",
   "id": "4eca7ddb-e385-44f9-91db-ccfa75a09487",
   "metadata": {},
   "source": [
    "by ID it means memory location of variables"
   ]
  },
  {
   "cell_type": "code",
   "execution_count": 104,
   "id": "39b06df8-e293-46ff-8b8a-8bee6e7b7f77",
   "metadata": {},
   "outputs": [
    {
     "name": "stdout",
     "output_type": "stream",
     "text": [
      "a at 11761032 and b at 11761032\n"
     ]
    }
   ],
   "source": [
    "a = 12\n",
    "b = 12\n",
    "print(f\"a at {id(a)} and b at {id(b)}\")"
   ]
  },
  {
   "cell_type": "code",
   "execution_count": 107,
   "id": "1e9bb488-9a63-40b2-811f-f4ab9238707e",
   "metadata": {},
   "outputs": [
    {
     "name": "stdout",
     "output_type": "stream",
     "text": [
      "131317286533760 and 131317286882368\n"
     ]
    }
   ],
   "source": [
    "a = [1,2,3]\n",
    "b = [1,2,3]\n",
    "print(f\"{id(a)} and {id(b)}\")"
   ]
  },
  {
   "cell_type": "markdown",
   "id": "1e07821f-1a59-4794-999f-20f5c6225639",
   "metadata": {
    "jp-MarkdownHeadingCollapsed": true
   },
   "source": [
    "#### 6.9)<span style = \"color: blue\"> ord </span>"
   ]
  },
  {
   "cell_type": "markdown",
   "id": "abf1419c-a397-4569-85dc-507ffd8fe19d",
   "metadata": {},
   "source": [
    "brings **ascii** code for any character"
   ]
  },
  {
   "cell_type": "code",
   "execution_count": 113,
   "id": "5136c807-dc98-4712-b65f-454257c2a691",
   "metadata": {},
   "outputs": [
    {
     "data": {
      "text/plain": [
       "115"
      ]
     },
     "execution_count": 113,
     "metadata": {},
     "output_type": "execute_result"
    }
   ],
   "source": [
    "ord('s')"
   ]
  },
  {
   "cell_type": "markdown",
   "id": "0525b786-dcca-48f5-b56d-a525854ffb94",
   "metadata": {
    "jp-MarkdownHeadingCollapsed": true
   },
   "source": [
    "#### 6.10)<span style = \"color: blue\"> sum </span>"
   ]
  },
  {
   "cell_type": "code",
   "execution_count": 115,
   "id": "a11e9ad2-c373-4b06-adb7-386be1e50734",
   "metadata": {},
   "outputs": [
    {
     "data": {
      "text/plain": [
       "21"
      ]
     },
     "execution_count": 115,
     "metadata": {},
     "output_type": "execute_result"
    }
   ],
   "source": [
    "sum({1,2,3,4,5,6})"
   ]
  },
  {
   "cell_type": "markdown",
   "id": "f3122009-fccb-4eaa-b8e2-5da567ddae07",
   "metadata": {
    "jp-MarkdownHeadingCollapsed": true
   },
   "source": [
    "#### 6.11)<span style = \"color: blue\"> Help </span>"
   ]
  },
  {
   "cell_type": "code",
   "execution_count": 116,
   "id": "1c598c0b-b264-4c10-9782-f64b54fd3483",
   "metadata": {},
   "outputs": [
    {
     "name": "stdout",
     "output_type": "stream",
     "text": [
      "Help on built-in function print in module builtins:\n",
      "\n",
      "print(*args, sep=' ', end='\\n', file=None, flush=False)\n",
      "    Prints the values to a stream, or to sys.stdout by default.\n",
      "\n",
      "    sep\n",
      "      string inserted between values, default a space.\n",
      "    end\n",
      "      string appended after the last value, default a newline.\n",
      "    file\n",
      "      a file-like object (stream); defaults to the current sys.stdout.\n",
      "    flush\n",
      "      whether to forcibly flush the stream.\n",
      "\n"
     ]
    }
   ],
   "source": [
    "help('print')"
   ]
  },
  {
   "cell_type": "markdown",
   "id": "660d9463-cfbb-4ff5-8f9e-5f655108e7cf",
   "metadata": {
    "jp-MarkdownHeadingCollapsed": true
   },
   "source": [
    "## 7)Built-in Modules"
   ]
  },
  {
   "cell_type": "markdown",
   "id": "8f353833-6a3a-4d81-9d30-b579e170573b",
   "metadata": {},
   "source": [
    "File containg set of functions that you want to involve in your programm\n",
    "- Math\n",
    "- os\n",
    "- time\n",
    "- Random  \n",
    "etc"
   ]
  },
  {
   "cell_type": "markdown",
   "id": "04fe9f05-cfa1-4ed0-9932-71976651f2f4",
   "metadata": {
    "jp-MarkdownHeadingCollapsed": true
   },
   "source": [
    "#### *Help('modules')*\n",
    "can be used to detect all installed modules in *your python* ."
   ]
  },
  {
   "cell_type": "code",
   "execution_count": 118,
   "id": "952e99d0-b45e-4e8a-b04a-b0a19f8bfc9e",
   "metadata": {
    "scrolled": true
   },
   "outputs": [
    {
     "name": "stdout",
     "output_type": "stream",
     "text": [
      "\n",
      "Please wait a moment while I gather a list of all available modules...\n",
      "\n"
     ]
    },
    {
     "name": "stderr",
     "output_type": "stream",
     "text": [
      "Matplotlib is building the font cache; this may take a moment.\n",
      "/usr/lib/python3.12/pkgutil.py:78: UserWarning: pkg_resources is deprecated as an API. See https://setuptools.pypa.io/en/latest/pkg_resources.html. The pkg_resources package is slated for removal as early as 2025-11-30. Refrain from using this package or pin to Setuptools<81.\n",
      "  __import__(info.name)\n"
     ]
    },
    {
     "name": "stdout",
     "output_type": "stream",
     "text": [
      "IPython             argon2              ipykernel           resource\n",
      "PIL                 argparse            ipykernel_launcher  rfc3339_validator\n",
      "__future__          array               ipython_pygments_lexers rfc3986_validator\n",
      "__hello__           arrow               isoduration         rlcompleter\n",
      "__phello__          ast                 itertools           rpds\n",
      "_abc                asttokens           jedi                runpy\n",
      "_aix_support        async_lru           jinja2              sched\n",
      "_argon2_cffi_bindings asyncio             json                seaborn\n",
      "_ast                atexit              json5               secrets\n",
      "_asyncio            attr                jsonpointer         select\n",
      "_bisect             attrs               jsonschema          selectors\n",
      "_blake2             audioop             jsonschema_specifications send2trash\n",
      "_bz2                autocommand         jupyter             setuptools\n",
      "_cffi_backend       babel               jupyter_client      shelve\n",
      "_codecs             backports           jupyter_core        shlex\n",
      "_codecs_cn          base64              jupyter_events      shutil\n",
      "_codecs_hk          bdb                 jupyter_lsp         signal\n",
      "_codecs_iso2022     binascii            jupyter_server      site\n",
      "_codecs_jp          bisect              jupyter_server_terminals sitecustomize\n",
      "_codecs_kr          bleach              jupyterlab          six\n",
      "_codecs_tw          bs4                 jupyterlab_pygments smtplib\n",
      "_collections        builtins            jupyterlab_server   sndhdr\n",
      "_collections_abc    bz2                 keyword             sniffio\n",
      "_compat_pickle      cProfile            kiwisolver          socket\n",
      "_compression        calendar            linecache           socketserver\n",
      "_contextvars        certifi             locale              soupsieve\n",
      "_crypt              cffi                logging             spwd\n",
      "_csv                cgi                 lzma                sqlite3\n",
      "_ctypes             cgitb               mailbox             sre_compile\n",
      "_ctypes_test        charset_normalizer  mailcap             sre_constants\n",
      "_curses             chunk               markupsafe          sre_parse\n",
      "_curses_panel       cmath               marshal             ssl\n",
      "_datetime           cmd                 math                stack_data\n",
      "_dbm                code                matplotlib          stat\n",
      "_decimal            codecs              matplotlib_inline   statistics\n",
      "_distutils_hack     codeop              mimetypes           string\n",
      "_distutils_system_mod collections         mistune             stringprep\n",
      "_elementtree        colorsys            mmap                struct\n",
      "_functools          comm                modulefinder        subprocess\n",
      "_gdbm               compileall          more_itertools      sunau\n",
      "_hashlib            concurrent          multiprocessing     symtable\n",
      "_heapq              configparser        nbclient            sys\n",
      "_imp                contextlib          nbconvert           sysconfig\n",
      "_io                 contextvars         nbformat            syslog\n",
      "_json               contourpy           nest_asyncio        tabnanny\n",
      "_locale             copy                netrc               tarfile\n",
      "_lsprof             copyreg             nntplib             telnetlib\n",
      "_lzma               crypt               notebook_shim       tempfile\n",
      "_markupbase         csv                 ntpath              terminado\n",
      "_md5                ctypes              nturl2path          termios\n",
      "_multibytecodec     curses              numbers             test\n",
      "_multiprocessing    cycler              numpy               textwrap\n",
      "_opcode             dataclasses         opcode              this\n",
      "_operator           datetime            operator            threading\n",
      "_osx_support        dateutil            optparse            time\n",
      "_pickle             dbm                 os                  timeit\n",
      "_posixshmem         debugpy             ossaudiodev         tinycss2\n",
      "_posixsubprocess    decimal             overrides           token\n",
      "_py_abc             decorator           packaging           tokenize\n",
      "_pydatetime         defusedxml          pandas              tomli\n",
      "_pydecimal          difflib             pandocfilters       tomllib\n",
      "_pyio               dis                 parso               tornado\n",
      "_pylong             doctest             pathlib             trace\n",
      "_queue              email               pdb                 traceback\n",
      "_random             encodings           pexpect             tracemalloc\n",
      "_sha1               ensurepip           pickle              traitlets\n",
      "_sha2               enum                pickletools         tty\n",
      "_sha3               errno               pip                 turtle\n",
      "_signal             executing           pipes               typeguard\n",
      "_sitebuiltins       fastjsonschema      pkg_resources       types\n",
      "_socket             faulthandler        pkgutil             typing\n",
      "_sqlite3            fcntl               platform            typing_extensions\n",
      "_sre                filecmp             platformdirs        tzdata\n",
      "_ssl                fileinput           plistlib            unicodedata\n",
      "_stat               fnmatch             poplib              unittest\n",
      "_statistics         fontTools           posix               uri_template\n",
      "_string             fqdn                posixpath           urllib\n",
      "_strptime           fractions           pprint              urllib3\n",
      "_struct             ftplib              profile             uu\n",
      "_symtable           functools           prometheus_client   uuid\n",
      "_sysconfigdata__linux_x86_64-linux-gnu gc                  prompt_toolkit      venv\n",
      "_sysconfigdata__x86_64-linux-gnu genericpath         pstats              warnings\n",
      "_testbuffer         getopt              psutil              wave\n",
      "_testcapi           getpass             pty                 wcwidth\n",
      "_testclinic         gettext             ptyprocess          weakref\n",
      "_testimportmultiple glob                pure_eval           webbrowser\n",
      "_testinternalcapi   graphlib            pwd                 webcolors\n",
      "_testmultiphase     grp                 py_compile          webencodings\n",
      "_testsinglephase    gzip                pyclbr              websocket\n",
      "_thread             h11                 pycparser           wheel\n",
      "_threading_local    hashlib             pydoc               wsgiref\n",
      "_tokenize           heapq               pydoc_data          xdrlib\n",
      "_tracemalloc        hmac                pyexpat             xml\n",
      "_typing             html                pygments            xmlrpc\n",
      "_warnings           http                pylab               xxlimited\n",
      "_weakref            httpcore            pyparsing           xxlimited_35\n",
      "_weakrefset         httpx               pythonjsonlogger    xxsubtype\n",
      "_xxinterpchannels   idna                pytz                yaml\n",
      "_xxsubinterpreters  imaplib             queue               zipapp\n",
      "_xxtestfuzz         imghdr              quopri              zipfile\n",
      "_yaml               importlib           random              zipimport\n",
      "_zoneinfo           importlib_metadata  re                  zipp\n",
      "abc                 inflect             readline            zlib\n",
      "aifc                inspect             referencing         zmq\n",
      "antigravity         io                  reprlib             zoneinfo\n",
      "anyio               ipaddress           requests            \n",
      "\n",
      "Enter any module name to get more help.  Or, type \"modules spam\" to search\n",
      "for modules whose name or summary contain the string \"spam\".\n",
      "\n"
     ]
    }
   ],
   "source": [
    "help('modules')"
   ]
  },
  {
   "cell_type": "code",
   "execution_count": 121,
   "id": "693046cc-7e19-45c2-971c-c5cff275713f",
   "metadata": {
    "scrolled": true
   },
   "outputs": [
    {
     "name": "stdout",
     "output_type": "stream",
     "text": [
      "Help on package pip:\n",
      "\n",
      "NAME\n",
      "    pip\n",
      "\n",
      "PACKAGE CONTENTS\n",
      "    __main__\n",
      "    __pip-runner__\n",
      "    _internal (package)\n",
      "    _vendor (package)\n",
      "\n",
      "FUNCTIONS\n",
      "    main(args: Optional[List[str]] = None) -> int\n",
      "        This is an internal API only meant for use by pip's own console scripts.\n",
      "\n",
      "        For additional details, see https://github.com/pypa/pip/issues/7498.\n",
      "\n",
      "DATA\n",
      "    List = typing.List\n",
      "        A generic version of list.\n",
      "\n",
      "    Optional = typing.Optional\n",
      "        Optional[X] is equivalent to Union[X, None].\n",
      "\n",
      "VERSION\n",
      "    24.0\n",
      "\n",
      "FILE\n",
      "    /home/akash/jupyterlab_env/lib/python3.12/site-packages/pip/__init__.py\n",
      "\n",
      "\n"
     ]
    }
   ],
   "source": [
    "help('pip')"
   ]
  },
  {
   "cell_type": "markdown",
   "id": "79ddf74d-d291-42e2-a2c1-350a6e8593d8",
   "metadata": {
    "jp-MarkdownHeadingCollapsed": true
   },
   "source": [
    "#### 7.1)Math"
   ]
  },
  {
   "cell_type": "code",
   "execution_count": 124,
   "id": "4a7b09e4-535e-442f-9eb2-fcdc81acf4bb",
   "metadata": {},
   "outputs": [],
   "source": [
    "import math #imports module math"
   ]
  },
  {
   "cell_type": "code",
   "execution_count": 125,
   "id": "b4d2da68-d194-44ac-a86c-ffa4953361d0",
   "metadata": {},
   "outputs": [
    {
     "data": {
      "text/plain": [
       "3.141592653589793"
      ]
     },
     "execution_count": 125,
     "metadata": {},
     "output_type": "execute_result"
    }
   ],
   "source": [
    "math.pi"
   ]
  },
  {
   "cell_type": "markdown",
   "id": "50a2bd7f-68ce-4885-af06-3566d4104fe7",
   "metadata": {
    "jp-MarkdownHeadingCollapsed": true
   },
   "source": [
    "#### 7.2)Random"
   ]
  },
  {
   "cell_type": "code",
   "execution_count": 127,
   "id": "fa06cd15-f10f-4e44-b43f-6a71e9a2dcb7",
   "metadata": {},
   "outputs": [],
   "source": [
    "import random as r"
   ]
  },
  {
   "cell_type": "code",
   "execution_count": 128,
   "id": "f1496c61-29f7-47b7-891c-f14fdb0c09e0",
   "metadata": {},
   "outputs": [
    {
     "data": {
      "text/plain": [
       "62"
      ]
     },
     "execution_count": 128,
     "metadata": {},
     "output_type": "execute_result"
    }
   ],
   "source": [
    "r.randint(1,100)"
   ]
  },
  {
   "cell_type": "code",
   "execution_count": 130,
   "id": "e61695bc-8378-4999-a59d-cb243f4cf62d",
   "metadata": {},
   "outputs": [
    {
     "data": {
      "text/plain": [
       "[4, 7, 1, 2, 6, 3, 5]"
      ]
     },
     "execution_count": 130,
     "metadata": {},
     "output_type": "execute_result"
    }
   ],
   "source": [
    "a = [1,2,3,4,5,6,7]\n",
    "r.shuffle(a)\n",
    "a"
   ]
  },
  {
   "cell_type": "markdown",
   "id": "da50b988-5130-46af-907e-e4b662527e8c",
   "metadata": {
    "jp-MarkdownHeadingCollapsed": true
   },
   "source": [
    "#### 7.3) Time"
   ]
  },
  {
   "cell_type": "code",
   "execution_count": 132,
   "id": "79fa044f-988e-4180-a1bb-a6ed7be0f65a",
   "metadata": {},
   "outputs": [],
   "source": [
    "import time"
   ]
  },
  {
   "cell_type": "code",
   "execution_count": 142,
   "id": "bbef6422-7039-4c31-ae7f-a9b0b9635699",
   "metadata": {},
   "outputs": [
    {
     "data": {
      "text/plain": [
       "1753193548.5540917"
      ]
     },
     "execution_count": 142,
     "metadata": {},
     "output_type": "execute_result"
    }
   ],
   "source": [
    "time.time()"
   ]
  },
  {
   "cell_type": "code",
   "execution_count": 141,
   "id": "4725c971-e365-4937-9ff0-d0b74d954949",
   "metadata": {},
   "outputs": [
    {
     "data": {
      "text/plain": [
       "'Tue Jul 22 19:42:26 2025'"
      ]
     },
     "execution_count": 141,
     "metadata": {},
     "output_type": "execute_result"
    }
   ],
   "source": [
    "time.ctime() #current time"
   ]
  },
  {
   "cell_type": "code",
   "execution_count": 140,
   "id": "280fcf09-9f16-4178-927d-2cd026e4fce9",
   "metadata": {},
   "outputs": [
    {
     "name": "stdout",
     "output_type": "stream",
     "text": [
      "Hello\n",
      "Wrld\n"
     ]
    }
   ],
   "source": [
    "print(\"Hello\")\n",
    "time.sleep(2) #delays wrld print by 2 sec\n",
    "print(\"Wrld\")"
   ]
  },
  {
   "cell_type": "markdown",
   "id": "b0f17f1a-9071-408d-99fd-e423fffa67d9",
   "metadata": {},
   "source": [
    "#### 7.4)os"
   ]
  },
  {
   "cell_type": "code",
   "execution_count": null,
   "id": "caffa566-1796-4d44-b643-1ba3d97dc170",
   "metadata": {},
   "outputs": [],
   "source": [
    "import os"
   ]
  },
  {
   "cell_type": "code",
   "execution_count": null,
   "id": "07997c48-f256-4264-996b-3a5030ca63b5",
   "metadata": {},
   "outputs": [
    {
     "data": {
      "text/plain": [
       "'/home/akash/Documents/CODE FILES'"
      ]
     },
     "execution_count": 145,
     "metadata": {},
     "output_type": "execute_result"
    }
   ],
   "source": [
    "os.getcwd() #the folder i am in"
   ]
  },
  {
   "cell_type": "code",
   "execution_count": 147,
   "id": "5eced0a2-9195-40d7-b72d-00139d006a90",
   "metadata": {},
   "outputs": [
    {
     "data": {
      "text/plain": [
       "['.ipynb_checkpoints', 'LEARNING PYTHON.ipynb']"
      ]
     },
     "execution_count": 147,
     "metadata": {},
     "output_type": "execute_result"
    }
   ],
   "source": [
    "os.listdir() #files in my dir"
   ]
  },
  {
   "cell_type": "code",
   "execution_count": null,
   "id": "afb03715-e2df-4551-ad9b-3c4ebda4edef",
   "metadata": {},
   "outputs": [],
   "source": []
  },
  {
   "cell_type": "markdown",
   "id": "9dc97c79-da41-4fa8-91b5-de9186fb2ad4",
   "metadata": {},
   "source": [
    "## 8)Strings"
   ]
  },
  {
   "cell_type": "markdown",
   "id": "d39fc71e-a038-466e-970c-f18390a7edc1",
   "metadata": {
    "jp-MarkdownHeadingCollapsed": true
   },
   "source": [
    "#### *History to unicode*"
   ]
  },
  {
   "cell_type": "markdown",
   "id": "86a7dfaf-da22-42b3-9f3a-ce6463537010",
   "metadata": {},
   "source": [
    "<span style = \"color : green\">  \n",
    "    \n",
    ">  be 1800s  \n",
    "    > no computers, just telegraphs   \n",
    "    >morse code gang rise up  "
   ]
  },
  {
   "cell_type": "markdown",
   "id": "b25c4b19-3233-4d19-b522-cd5e12dc5d44",
   "metadata": {},
   "source": [
    "<span style = \"color : green\">   \n",
    "    \n",
    "> be early 1900s  \n",
    "    > computers start to happen  \n",
    "    > need way to represent letters as numbers  \n",
    "    > every company makes their own random encoding  \n",
    "    > IBM has EBCDIC  \n",
    "    > DEC has something else  \n",
    "    > chaos.txt  \n",
    "</span>"
   ]
  },
  {
   "cell_type": "markdown",
   "id": "3ba059df-91dd-4d15-8a2e-be4c036e9caf",
   "metadata": {},
   "source": [
    "<span style = \"color : green\">  \n",
    "    \n",
    "> be 1960  \n",
    "    > smart dudes at ANSI: \"let’s standardize this mess\"  \n",
    "    > create ASCII: American Standard Code for Information Interchange  \n",
    "    > 7-bit code  \n",
    "    > 128 characters only  \n",
    "    > includes:  \n",
    "        - a–z  \n",
    "        - A–Z  \n",
    "        - 0–9  \n",
    "        symbols like !, @, #, etc  \n",
    "        control chars like \\n, \\t, bell 🔔  "
   ]
  },
  {
   "cell_type": "markdown",
   "id": "e21febf0-fe8d-49d4-871a-49d40d9171d9",
   "metadata": {},
   "source": [
    "<span style = \"color : green\">  \n",
    "    \n",
    "> 1963: ASCII becomes official  \n",
    "    > 01000001 = A  \n",
    "    > 01000010 = B  \n",
    "    > feelsgoodman  "
   ]
  },
  {
   "cell_type": "markdown",
   "id": "be7743b2-7283-49ca-a729-c9ebc99c57e6",
   "metadata": {},
   "source": [
    "<span style = \"color : green\">  \n",
    "    \n",
    "> be 1980s  \n",
    "    > world says \"wait... what about ñ, é, ç, ü, etc?\"  \n",
    "    > ASCII too american  \n",
    "    > not enough bits  \n",
    "    > start making extended ASCII  \n",
    "    > 8 bits = 256 chars  \n",
    "    > still messy  \n",
    "    > too many incompatible versions  "
   ]
  },
  {
   "cell_type": "markdown",
   "id": "635e63c2-2811-46e3-b1a5-8eb4c368a436",
   "metadata": {},
   "source": [
    "<span style = \"color : green\">  \n",
    "    \n",
    "> enter: Unicode (1991)  \n",
    "    > goal: one encoding to rule them all  \n",
    "    > can represent every language ever  \n",
    "    > emojis too  \n",
    "    > U+1F4A9 = 💩  \n",
    "    > victory.png\n",
    " "
   ]
  },
  {
   "cell_type": "markdown",
   "id": "e240372d-7ee8-4eab-aac6-92f89d182511",
   "metadata": {},
   "source": [
    "<span style = \"color : green\">  \n",
    "    \n",
    "> Today:  \n",
    "    > ASCII still lives on as the first 128 characters of Unicode  \n",
    "    > legacy code still uses it  \n",
    "    > baby’s first encoding  \n",
    "    > mfw ord('A') == 65  \n",
    "    > mfw chr(10) gives newline  \n",
    "    > mfw ASCII won’t die  \n",
    "</span>"
   ]
  },
  {
   "cell_type": "markdown",
   "id": "1d65d720-db40-4b55-bf6d-80880f0d2e43",
   "metadata": {
    "jp-MarkdownHeadingCollapsed": true
   },
   "source": [
    "#### 1) Creating Strings"
   ]
  },
  {
   "cell_type": "code",
   "execution_count": 151,
   "id": "d5b10d4a-9425-4c2d-9427-2de20422e493",
   "metadata": {},
   "outputs": [
    {
     "ename": "SyntaxError",
     "evalue": "unterminated string literal (detected at line 1) (3561637438.py, line 1)",
     "output_type": "error",
     "traceback": [
      "  \u001b[36mCell\u001b[39m\u001b[36m \u001b[39m\u001b[32mIn[151]\u001b[39m\u001b[32m, line 1\u001b[39m\n\u001b[31m    \u001b[39m\u001b[31mprint('it's raining outside')\u001b[39m\n                               ^\n\u001b[31mSyntaxError\u001b[39m\u001b[31m:\u001b[39m unterminated string literal (detected at line 1)\n"
     ]
    }
   ],
   "source": [
    "print('it's raining outside') #>mfw python confused"
   ]
  },
  {
   "cell_type": "code",
   "execution_count": 152,
   "id": "354d76c2-b50f-4775-b9a7-0f6bbcc4eaa9",
   "metadata": {},
   "outputs": [
    {
     "name": "stdout",
     "output_type": "stream",
     "text": [
      "it's raining outside\n"
     ]
    }
   ],
   "source": [
    "print(\"it's raining outside\")"
   ]
  },
  {
   "cell_type": "markdown",
   "id": "0a4f76f1-0efa-46dd-8185-c48140635772",
   "metadata": {},
   "source": [
    "`use str for type conversion`"
   ]
  },
  {
   "cell_type": "markdown",
   "id": "df7f2b35-b6dc-45d4-beea-c2d3d7b455c8",
   "metadata": {},
   "source": [
    "<span style = \"color: blue\">**INDEXING**</span>"
   ]
  },
  {
   "cell_type": "code",
   "execution_count": 155,
   "id": "e4f60893-d4ae-4767-a6b7-4e86177b2fe9",
   "metadata": {},
   "outputs": [
    {
     "name": "stdout",
     "output_type": "stream",
     "text": [
      "h\n",
      "h\n"
     ]
    }
   ],
   "source": [
    "a = \"hello\"\n",
    "print(a[0])\n",
    "print(a[-5])"
   ]
  },
  {
   "cell_type": "markdown",
   "id": "c0b64438-02e9-4412-8cd4-139a5b665cbc",
   "metadata": {},
   "source": [
    "<span style = \"color:blue\"> **SLICING** </span>"
   ]
  },
  {
   "cell_type": "code",
   "execution_count": 159,
   "id": "0959ed02-7289-4c3a-a6e3-8e5112cf1332",
   "metadata": {},
   "outputs": [
    {
     "name": "stdout",
     "output_type": "stream",
     "text": [
      "lo\n"
     ]
    }
   ],
   "source": [
    "print(a[3:])"
   ]
  },
  {
   "cell_type": "code",
   "execution_count": 160,
   "id": "705b1563-2ca6-415f-a740-4d6c18811aae",
   "metadata": {},
   "outputs": [
    {
     "name": "stdout",
     "output_type": "stream",
     "text": [
      "hel\n"
     ]
    }
   ],
   "source": [
    "print(a[:3])"
   ]
  },
  {
   "cell_type": "code",
   "execution_count": 162,
   "id": "70786a11-5d2b-47fb-ad03-886a4e4d6b91",
   "metadata": {},
   "outputs": [
    {
     "name": "stdout",
     "output_type": "stream",
     "text": [
      "ello\n"
     ]
    }
   ],
   "source": [
    "print(a[1:5])"
   ]
  },
  {
   "cell_type": "code",
   "execution_count": 178,
   "id": "87358b9a-4b34-4225-bdc1-12436ac32ee7",
   "metadata": {},
   "outputs": [
    {
     "name": "stdout",
     "output_type": "stream",
     "text": [
      "olleh\n"
     ]
    }
   ],
   "source": [
    "print(a[-1:-6:-1]) #SKips 2 steps everytime"
   ]
  },
  {
   "cell_type": "code",
   "execution_count": 180,
   "id": "c526087d-1765-428c-87e7-726a67cb715b",
   "metadata": {},
   "outputs": [
    {
     "name": "stdout",
     "output_type": "stream",
     "text": [
      "olleh\n"
     ]
    }
   ],
   "source": [
    "print(a[::-1])"
   ]
  },
  {
   "cell_type": "code",
   "execution_count": null,
   "id": "1bb38a89-cdf0-4b93-b094-e61acbe00347",
   "metadata": {},
   "outputs": [],
   "source": []
  },
  {
   "cell_type": "markdown",
   "id": "87af6dd7-a935-4506-b346-f4587c9136a0",
   "metadata": {
    "jp-MarkdownHeadingCollapsed": true
   },
   "source": [
    "#### 4) Editing Strings"
   ]
  },
  {
   "cell_type": "code",
   "execution_count": 181,
   "id": "c5651604-4da6-4688-a158-5c795761dd77",
   "metadata": {},
   "outputs": [
    {
     "ename": "NameError",
     "evalue": "name 'x' is not defined",
     "output_type": "error",
     "traceback": [
      "\u001b[31m---------------------------------------------------------------------------\u001b[39m",
      "\u001b[31mNameError\u001b[39m                                 Traceback (most recent call last)",
      "\u001b[36mCell\u001b[39m\u001b[36m \u001b[39m\u001b[32mIn[181]\u001b[39m\u001b[32m, line 2\u001b[39m\n\u001b[32m      1\u001b[39m a = \u001b[33m\"\u001b[39m\u001b[33mHELLO\u001b[39m\u001b[33m\"\u001b[39m\n\u001b[32m----> \u001b[39m\u001b[32m2\u001b[39m a[\u001b[32m0\u001b[39m] = \u001b[43mx\u001b[49m\n",
      "\u001b[31mNameError\u001b[39m: name 'x' is not defined"
     ]
    }
   ],
   "source": [
    "a = \"HELLO\"\n",
    "a[0] = x"
   ]
  },
  {
   "cell_type": "markdown",
   "id": "505df174-a490-4e38-8957-076421188da7",
   "metadata": {},
   "source": [
    "<span style = \"color : green\"> *Since strings are immutable data types* </span>"
   ]
  },
  {
   "cell_type": "markdown",
   "id": "cdeb7fc5-7a9c-414b-bcdd-b1c1950a0cf4",
   "metadata": {},
   "source": [
    "#### 5) Deleting Strings"
   ]
  },
  {
   "cell_type": "markdown",
   "id": "bd12847b-75f6-4723-a201-6459594e8850",
   "metadata": {},
   "source": [
    "`del string_name ` can be used to erase any strings from any variable in python"
   ]
  },
  {
   "cell_type": "markdown",
   "id": "bf88d3e5-b68f-4f23-8669-2d4422e5ecf2",
   "metadata": {
    "jp-MarkdownHeadingCollapsed": true
   },
   "source": [
    "#### 6) Operations on Strings"
   ]
  },
  {
   "cell_type": "markdown",
   "id": "35a9ebd7-a7c0-4efb-8322-2fde5213cfc3",
   "metadata": {},
   "source": [
    "<span style = \"color : blue\"> **Arithematic** </span>"
   ]
  },
  {
   "cell_type": "code",
   "execution_count": 185,
   "id": "235763a3-a213-4ed8-8f63-10285e8051f3",
   "metadata": {},
   "outputs": [
    {
     "data": {
      "text/plain": [
       "'HelloWorld'"
      ]
     },
     "execution_count": 185,
     "metadata": {},
     "output_type": "execute_result"
    }
   ],
   "source": [
    "\"Hello\" + \"World\""
   ]
  },
  {
   "cell_type": "code",
   "execution_count": 186,
   "id": "15db2714-5020-404e-b810-de6071b6b820",
   "metadata": {},
   "outputs": [
    {
     "data": {
      "text/plain": [
       "'HelloHelloHello'"
      ]
     },
     "execution_count": 186,
     "metadata": {},
     "output_type": "execute_result"
    }
   ],
   "source": [
    "\"Hello\" * 3"
   ]
  },
  {
   "cell_type": "markdown",
   "id": "f74f55d2-c7c6-4178-a0ee-64450fdc28ff",
   "metadata": {},
   "source": [
    "<span style = \"color : blue\"> **Relational** </span>"
   ]
  },
  {
   "cell_type": "code",
   "execution_count": 187,
   "id": "3270eeec-0c3e-46c0-8e23-7c743b8db634",
   "metadata": {},
   "outputs": [
    {
     "data": {
      "text/plain": [
       "True"
      ]
     },
     "execution_count": 187,
     "metadata": {},
     "output_type": "execute_result"
    }
   ],
   "source": [
    "\"Hello\" != \"World\""
   ]
  },
  {
   "cell_type": "code",
   "execution_count": 189,
   "id": "9eb00e97-2a8a-41bf-ae22-7824a853360c",
   "metadata": {},
   "outputs": [
    {
     "data": {
      "text/plain": [
       "False"
      ]
     },
     "execution_count": 189,
     "metadata": {},
     "output_type": "execute_result"
    }
   ],
   "source": [
    "\"Hello\" > \"World\" #Lexiographically which means w.r.t dictionary"
   ]
  },
  {
   "cell_type": "markdown",
   "id": "d670c9c9-e1b7-4c8a-a511-1097141e8ec0",
   "metadata": {},
   "source": [
    "<span style = \"color : blue\"> **Logical** </span>"
   ]
  },
  {
   "cell_type": "markdown",
   "id": "681ce037-4173-408a-a1cd-bbcca8bdcf64",
   "metadata": {},
   "source": [
    "python takes every \n",
    "- non-string `\"\"` as `False`\n",
    "- string `\"Hello\"` as `True`"
   ]
  },
  {
   "cell_type": "code",
   "execution_count": 1,
   "id": "16a7bb50-5ae4-4ba8-b0f3-01c428921437",
   "metadata": {},
   "outputs": [
    {
     "data": {
      "text/plain": [
       "'World'"
      ]
     },
     "execution_count": 1,
     "metadata": {},
     "output_type": "execute_result"
    }
   ],
   "source": [
    "\"Hello\" and \"World\" #as second in line defines if whole is going to be true or not after first"
   ]
  },
  {
   "cell_type": "code",
   "execution_count": 2,
   "id": "762c7f02-62b2-4f2d-8ae5-ffd89f7d64f0",
   "metadata": {},
   "outputs": [
    {
     "data": {
      "text/plain": [
       "'Hello'"
      ]
     },
     "execution_count": 2,
     "metadata": {},
     "output_type": "execute_result"
    }
   ],
   "source": [
    "\"Hello\" or \"World\" #as first in line defines if whole is going to be true or not"
   ]
  },
  {
   "cell_type": "markdown",
   "id": "5cc30daf-6287-40b0-8195-ec18dcaf728f",
   "metadata": {},
   "source": [
    "<span style = \"color : blue\"> **Loops on String** </span>"
   ]
  },
  {
   "cell_type": "code",
   "execution_count": 7,
   "id": "9599ff0c-7a94-44b3-963a-4687e3dda16d",
   "metadata": {},
   "outputs": [
    {
     "name": "stdout",
     "output_type": "stream",
     "text": [
      "f\n",
      "a\n",
      "r\n",
      "a\n",
      "s\n",
      "l\n",
      "a\n",
      "b\n",
      " \n",
      "h\n",
      "s\n",
      "a\n",
      "k\n",
      "a\n"
     ]
    }
   ],
   "source": [
    "a = 'akash balsaraf'\n",
    "for i in a[::-1]:\n",
    "    print(i)"
   ]
  },
  {
   "cell_type": "markdown",
   "id": "a1be7138-3558-4fdf-9a5d-6606305ee131",
   "metadata": {},
   "source": [
    "<span style = \"color : blue\"> **Memebership Operations** </span>"
   ]
  },
  {
   "cell_type": "code",
   "execution_count": 8,
   "id": "a35b23ea-faa6-473d-8f69-21ae9cdd85af",
   "metadata": {},
   "outputs": [
    {
     "data": {
      "text/plain": [
       "False"
      ]
     },
     "execution_count": 8,
     "metadata": {},
     "output_type": "execute_result"
    }
   ],
   "source": [
    "'z' in a"
   ]
  },
  {
   "cell_type": "code",
   "execution_count": 9,
   "id": "c9254f1a-c298-479d-a081-c67dd3bd1989",
   "metadata": {},
   "outputs": [
    {
     "data": {
      "text/plain": [
       "True"
      ]
     },
     "execution_count": 9,
     "metadata": {},
     "output_type": "execute_result"
    }
   ],
   "source": [
    "'l' in a"
   ]
  },
  {
   "cell_type": "markdown",
   "id": "02a91458-a48a-4f2e-9c76-b7709f1560fe",
   "metadata": {},
   "source": [
    "#### 7) String Functions"
   ]
  },
  {
   "cell_type": "markdown",
   "id": "64119016-09aa-4d90-b5c4-eff41092266b",
   "metadata": {
    "jp-MarkdownHeadingCollapsed": true
   },
   "source": [
    "##### <span style = \"color : blue\">Common Functions</span>"
   ]
  },
  {
   "cell_type": "markdown",
   "id": "638b1b6d-bf68-4b17-b7d3-e6ca92622bcf",
   "metadata": {},
   "source": [
    "_len_"
   ]
  },
  {
   "cell_type": "code",
   "execution_count": 11,
   "id": "98437f85-55a4-4003-8a43-ba66f67d17d4",
   "metadata": {},
   "outputs": [],
   "source": [
    "a = \"Hello World\""
   ]
  },
  {
   "cell_type": "code",
   "execution_count": 12,
   "id": "8ecee142-6e7b-4763-8d28-0dbbb74ba429",
   "metadata": {},
   "outputs": [
    {
     "data": {
      "text/plain": [
       "11"
      ]
     },
     "execution_count": 12,
     "metadata": {},
     "output_type": "execute_result"
    }
   ],
   "source": [
    "len(a)"
   ]
  },
  {
   "cell_type": "markdown",
   "id": "e1c39400-60f5-47b1-8e2b-ce2fe46ef26b",
   "metadata": {},
   "source": [
    "_max_"
   ]
  },
  {
   "cell_type": "code",
   "execution_count": 13,
   "id": "f9db92bd-5df8-457c-b418-ef2b515da577",
   "metadata": {},
   "outputs": [
    {
     "data": {
      "text/plain": [
       "'r'"
      ]
     },
     "execution_count": 13,
     "metadata": {},
     "output_type": "execute_result"
    }
   ],
   "source": [
    "max(a) #on the basis of ascii value the biggest character "
   ]
  },
  {
   "cell_type": "markdown",
   "id": "a4bac77c-9387-4930-8a49-dd79f1726717",
   "metadata": {},
   "source": [
    "_min_"
   ]
  },
  {
   "cell_type": "code",
   "execution_count": 14,
   "id": "adc9520f-f0c6-4904-b31e-01a296490994",
   "metadata": {},
   "outputs": [
    {
     "data": {
      "text/plain": [
       "' '"
      ]
     },
     "execution_count": 14,
     "metadata": {},
     "output_type": "execute_result"
    }
   ],
   "source": [
    "min(a)"
   ]
  },
  {
   "cell_type": "markdown",
   "id": "e7c0a0b7-6e61-402f-88f5-b0f3434b6aa9",
   "metadata": {},
   "source": [
    "_sorted(string,reverse = False)_"
   ]
  },
  {
   "cell_type": "code",
   "execution_count": 18,
   "id": "b89995be-71ad-4dee-9dcd-be2f91347b8c",
   "metadata": {},
   "outputs": [
    {
     "data": {
      "text/plain": [
       "['r', 'o', 'o', 'l', 'l', 'l', 'e', 'd', 'W', 'H', ' ']"
      ]
     },
     "execution_count": 18,
     "metadata": {},
     "output_type": "execute_result"
    }
   ],
   "source": [
    "sorted(a,reverse = True)"
   ]
  },
  {
   "cell_type": "markdown",
   "id": "35e9eb0b-637d-42cc-aeae-5c88f4876a56",
   "metadata": {
    "jp-MarkdownHeadingCollapsed": true
   },
   "source": [
    "##### <span style = \"color : blue\">Only applicable on strings</span>"
   ]
  },
  {
   "cell_type": "markdown",
   "id": "214693fc-6de7-42f3-a858-f0af836251fb",
   "metadata": {},
   "source": [
    "_Capitalize, Title, Upper, Lower, Swapcase_"
   ]
  },
  {
   "cell_type": "code",
   "execution_count": 20,
   "id": "68caf748-6329-456c-9237-303f6b3abc7b",
   "metadata": {},
   "outputs": [
    {
     "data": {
      "text/plain": [
       "'Hello world'"
      ]
     },
     "execution_count": 20,
     "metadata": {},
     "output_type": "execute_result"
    }
   ],
   "source": [
    "a.capitalize() #converts first alphabet to capital"
   ]
  },
  {
   "cell_type": "code",
   "execution_count": 22,
   "id": "dbe4c148-3653-45d9-9a97-26476bfe2805",
   "metadata": {},
   "outputs": [
    {
     "data": {
      "text/plain": [
       "'Hello World'"
      ]
     },
     "execution_count": 22,
     "metadata": {},
     "output_type": "execute_result"
    }
   ],
   "source": [
    "a.title() #every word's first letter becomes capital"
   ]
  },
  {
   "cell_type": "code",
   "execution_count": 23,
   "id": "8f67d46a-35f1-47bb-9e45-9d44bb11f1f5",
   "metadata": {},
   "outputs": [
    {
     "data": {
      "text/plain": [
       "'HELLO WORLD'"
      ]
     },
     "execution_count": 23,
     "metadata": {},
     "output_type": "execute_result"
    }
   ],
   "source": [
    "a.upper()"
   ]
  },
  {
   "cell_type": "code",
   "execution_count": 24,
   "id": "bb1d0746-e1e4-42fc-9eff-9006974f65b0",
   "metadata": {},
   "outputs": [
    {
     "data": {
      "text/plain": [
       "'hello world'"
      ]
     },
     "execution_count": 24,
     "metadata": {},
     "output_type": "execute_result"
    }
   ],
   "source": [
    "a.lower()"
   ]
  },
  {
   "cell_type": "code",
   "execution_count": 25,
   "id": "53256b17-6881-4ff0-be1c-0cc942899e04",
   "metadata": {},
   "outputs": [
    {
     "data": {
      "text/plain": [
       "'hELLO wORLD'"
      ]
     },
     "execution_count": 25,
     "metadata": {},
     "output_type": "execute_result"
    }
   ],
   "source": [
    "a.swapcase()"
   ]
  },
  {
   "cell_type": "markdown",
   "id": "68f392c2-0b03-48c8-881a-ae8b93bc99a6",
   "metadata": {
    "jp-MarkdownHeadingCollapsed": true
   },
   "source": [
    "##### <span style = \"color : blue\">2.Count</span>"
   ]
  },
  {
   "cell_type": "code",
   "execution_count": 31,
   "id": "0e3ef054-8723-4426-aa98-e05f78e019e0",
   "metadata": {},
   "outputs": [
    {
     "data": {
      "text/plain": [
       "2"
      ]
     },
     "execution_count": 31,
     "metadata": {},
     "output_type": "execute_result"
    }
   ],
   "source": [
    "\"it is raining\".count(\"in\") #tells us how many times a character/string appears in a string"
   ]
  },
  {
   "cell_type": "markdown",
   "id": "da0605d7-d021-44ce-bf1b-ae18544b7f97",
   "metadata": {
    "jp-MarkdownHeadingCollapsed": true
   },
   "source": [
    "##### <span style = \"color : blue\">3.Find/Index</span>"
   ]
  },
  {
   "cell_type": "code",
   "execution_count": 38,
   "id": "fb2417ac-4b4e-4eb3-aa99-7308a8f7a7eb",
   "metadata": {},
   "outputs": [
    {
     "data": {
      "text/plain": [
       "9"
      ]
     },
     "execution_count": 38,
     "metadata": {},
     "output_type": "execute_result"
    }
   ],
   "source": [
    "\"it is raining\".find(\"n\") #tells us first occurance of character that we are trying to find out, if char not found return (-1)"
   ]
  },
  {
   "cell_type": "code",
   "execution_count": 39,
   "id": "7b1f6e77-d6a8-4314-a749-90324f84d1e7",
   "metadata": {},
   "outputs": [
    {
     "data": {
      "text/plain": [
       "9"
      ]
     },
     "execution_count": 39,
     "metadata": {},
     "output_type": "execute_result"
    }
   ],
   "source": [
    "\"it is raining\".index(\"n\") #same but if char not found returns error"
   ]
  },
  {
   "cell_type": "markdown",
   "id": "cc9590f2-1c2d-42a6-8afb-9e17d73a0aa9",
   "metadata": {
    "jp-MarkdownHeadingCollapsed": true
   },
   "source": [
    "##### <span style = \"color : blue\">ends with/starts with</span>"
   ]
  },
  {
   "cell_type": "code",
   "execution_count": 43,
   "id": "587015c5-1ae1-4cad-9993-c927f5ccd48a",
   "metadata": {},
   "outputs": [
    {
     "data": {
      "text/plain": [
       "False"
      ]
     },
     "execution_count": 43,
     "metadata": {},
     "output_type": "execute_result"
    }
   ],
   "source": [
    "\"akash\".endswith(\"SH\")"
   ]
  },
  {
   "cell_type": "code",
   "execution_count": 44,
   "id": "6503d099-4e01-440f-9ca2-3a23fdb5973f",
   "metadata": {},
   "outputs": [
    {
     "data": {
      "text/plain": [
       "True"
      ]
     },
     "execution_count": 44,
     "metadata": {},
     "output_type": "execute_result"
    }
   ],
   "source": [
    "\"akash\".endswith(\"sh\")"
   ]
  },
  {
   "cell_type": "code",
   "execution_count": 45,
   "id": "6c49cf8e-7fc1-4745-a780-eee9a40f293b",
   "metadata": {},
   "outputs": [
    {
     "data": {
      "text/plain": [
       "True"
      ]
     },
     "execution_count": 45,
     "metadata": {},
     "output_type": "execute_result"
    }
   ],
   "source": [
    "\"akash\".startswith(\"a\")"
   ]
  },
  {
   "cell_type": "markdown",
   "id": "6faa0088-e1e2-43c7-ab5d-cc4356e8f10c",
   "metadata": {
    "jp-MarkdownHeadingCollapsed": true
   },
   "source": [
    "##### <span style = \"color : blue\"> format </span>"
   ]
  },
  {
   "cell_type": "markdown",
   "id": "f0b58458-7faf-4f92-83cc-270df6c43d1e",
   "metadata": {},
   "source": [
    "`can be used to insert strings in any strings with {} at position of insertion`"
   ]
  },
  {
   "cell_type": "code",
   "execution_count": 48,
   "id": "8c9d6b5e-752a-4da3-9cf3-73ab16a3c975",
   "metadata": {},
   "outputs": [
    {
     "data": {
      "text/plain": [
       "'Ni hao Akash san!!!, Happy 21 Birthday'"
      ]
     },
     "execution_count": 48,
     "metadata": {},
     "output_type": "execute_result"
    }
   ],
   "source": [
    "\"Ni hao {} san!!!, Happy {} Birthday\".format(\"Akash\",21)"
   ]
  },
  {
   "cell_type": "code",
   "execution_count": 49,
   "id": "8ed57c64-f446-443b-96e5-e6bad7819878",
   "metadata": {},
   "outputs": [
    {
     "data": {
      "text/plain": [
       "'Ni hao 21 san!!!, Happy Akash Birthday'"
      ]
     },
     "execution_count": 49,
     "metadata": {},
     "output_type": "execute_result"
    }
   ],
   "source": [
    "\"Ni hao {1} san!!!, Happy {0} Birthday\".format(\"Akash\",21)"
   ]
  },
  {
   "cell_type": "markdown",
   "id": "ee780962-8f34-403b-aa63-fa336dd81bae",
   "metadata": {
    "jp-MarkdownHeadingCollapsed": true
   },
   "source": [
    "##### <span style = \"color : blue\">isalnum/isalpha/isdecimal/isidentifier/isdigit</span>"
   ]
  },
  {
   "cell_type": "code",
   "execution_count": 51,
   "id": "1daeeb79-f842-4997-b228-8629bd3d3e46",
   "metadata": {},
   "outputs": [
    {
     "data": {
      "text/plain": [
       "True"
      ]
     },
     "execution_count": 51,
     "metadata": {},
     "output_type": "execute_result"
    }
   ],
   "source": [
    "\"Flat20\".isalnum() #alnum mean alphabetic numeric"
   ]
  },
  {
   "cell_type": "code",
   "execution_count": 52,
   "id": "7604b461-3cce-4a03-927e-68e9eee75cd3",
   "metadata": {},
   "outputs": [
    {
     "data": {
      "text/plain": [
       "False"
      ]
     },
     "execution_count": 52,
     "metadata": {},
     "output_type": "execute_result"
    }
   ],
   "source": [
    "\"flat20\".isalpha()"
   ]
  },
  {
   "cell_type": "code",
   "execution_count": 53,
   "id": "580f9cc2-c5e3-4eba-ab4a-1d07728adb26",
   "metadata": {},
   "outputs": [
    {
     "data": {
      "text/plain": [
       "False"
      ]
     },
     "execution_count": 53,
     "metadata": {},
     "output_type": "execute_result"
    }
   ],
   "source": [
    "\"312.12\".isdecimal()"
   ]
  },
  {
   "cell_type": "code",
   "execution_count": 57,
   "id": "9de5e7c2-26bf-4a8d-a698-f598004ebc3a",
   "metadata": {},
   "outputs": [
    {
     "data": {
      "text/plain": [
       "True"
      ]
     },
     "execution_count": 57,
     "metadata": {},
     "output_type": "execute_result"
    }
   ],
   "source": [
    "\"313\".isdigit()"
   ]
  },
  {
   "cell_type": "code",
   "execution_count": 59,
   "id": "05ed2c3f-7ef2-4b8c-a188-6144dc77b963",
   "metadata": {},
   "outputs": [
    {
     "data": {
      "text/plain": [
       "True"
      ]
     },
     "execution_count": 59,
     "metadata": {},
     "output_type": "execute_result"
    }
   ],
   "source": [
    "\"hello_world\".isidentifier()"
   ]
  },
  {
   "cell_type": "markdown",
   "id": "7d9ca095-f570-4b98-aa54-f00394f0b81f",
   "metadata": {
    "jp-MarkdownHeadingCollapsed": true
   },
   "source": [
    "##### <span style = \"color : blue\">split</span>"
   ]
  },
  {
   "cell_type": "code",
   "execution_count": 68,
   "id": "a6af7a2a-cabb-481a-8d85-ab7e902b721a",
   "metadata": {},
   "outputs": [
    {
     "data": {
      "text/plain": [
       "['hell', ' m', 't', '', '']"
      ]
     },
     "execution_count": 68,
     "metadata": {},
     "output_type": "execute_result"
    }
   ],
   "source": [
    "\"hello motoo\".split(sep = \"o\") #splits string where sep = \"o\""
   ]
  },
  {
   "cell_type": "markdown",
   "id": "e2136fb5-b9ed-417b-928f-dd03bccf59cc",
   "metadata": {
    "jp-MarkdownHeadingCollapsed": true
   },
   "source": [
    "##### <span style = \"color : blue\">Join</span>"
   ]
  },
  {
   "cell_type": "code",
   "execution_count": 69,
   "id": "0ef61355-8c32-4cfa-b5db-f6dd791eddbd",
   "metadata": {},
   "outputs": [],
   "source": [
    "a = [\"save\",\"me\",\"marioo!!!\",\"please\",\"help\",\"me\",\"luigi\"]"
   ]
  },
  {
   "cell_type": "code",
   "execution_count": 72,
   "id": "dbb99258-3976-48bf-9f2f-986fc5fe61e0",
   "metadata": {},
   "outputs": [
    {
     "data": {
      "text/plain": [
       "'save-me-marioo!!!-please-help-me-luigi'"
      ]
     },
     "execution_count": 72,
     "metadata": {},
     "output_type": "execute_result"
    }
   ],
   "source": [
    "\"-\".join(a) "
   ]
  },
  {
   "cell_type": "markdown",
   "id": "92271e36-2745-40b9-9172-3ab11f42c399",
   "metadata": {
    "jp-MarkdownHeadingCollapsed": true
   },
   "source": [
    "##### <span style = \"color : blue\">Replace</span>"
   ]
  },
  {
   "cell_type": "code",
   "execution_count": 73,
   "id": "cf4ebc5a-66fb-47c4-b54e-b2cb64dc9d54",
   "metadata": {},
   "outputs": [
    {
     "data": {
      "text/plain": [
       "'hello yo how u'"
      ]
     },
     "execution_count": 73,
     "metadata": {},
     "output_type": "execute_result"
    }
   ],
   "source": [
    "\"hello akash how u\".replace(\"akash\",\"yo\")"
   ]
  },
  {
   "cell_type": "markdown",
   "id": "c6077342-c232-4fe7-8d38-5b833e877b03",
   "metadata": {
    "jp-MarkdownHeadingCollapsed": true
   },
   "source": [
    "##### <span style = \"color : blue\">Strip</span>"
   ]
  },
  {
   "cell_type": "code",
   "execution_count": 76,
   "id": "c1c2d995-f01d-4e5b-9554-659fd0c6e450",
   "metadata": {},
   "outputs": [
    {
     "name": "stdout",
     "output_type": "stream",
     "text": [
      "    solo lev\n"
     ]
    }
   ],
   "source": [
    "name = \"    solo lev\"\n",
    "print(name)"
   ]
  },
  {
   "cell_type": "code",
   "execution_count": 77,
   "id": "8ff32444-d0ee-4189-8804-0d2049f41ca8",
   "metadata": {},
   "outputs": [
    {
     "data": {
      "text/plain": [
       "'solo lev'"
      ]
     },
     "execution_count": 77,
     "metadata": {},
     "output_type": "execute_result"
    }
   ],
   "source": [
    "name.strip()"
   ]
  },
  {
   "cell_type": "markdown",
   "id": "e0834176-5512-4a8c-980b-7102f428202c",
   "metadata": {
    "jp-MarkdownHeadingCollapsed": true
   },
   "source": [
    "## 9) Lists"
   ]
  },
  {
   "cell_type": "markdown",
   "id": "ed8b266c-ebe0-4234-8268-86c2d725dfb2",
   "metadata": {},
   "source": [
    "##### <span style = \"color : blue\">What's a List</span>"
   ]
  },
  {
   "cell_type": "markdown",
   "id": "b5a1700e-075f-4c65-9749-f808463a9550",
   "metadata": {},
   "source": [
    "- Data structure\n",
    "- Heterogeneous also\n",
    "- mutable\n",
    "- indexed\n",
    "- rich functionality "
   ]
  },
  {
   "cell_type": "markdown",
   "id": "b62972b3-ece7-4d46-9dd4-afd18d80449c",
   "metadata": {},
   "source": [
    "##### <span style = \"color : blue\">List vs Array</span>"
   ]
  },
  {
   "cell_type": "markdown",
   "id": "cc2d1d77-9d43-4b81-8547-d9c360d06b75",
   "metadata": {},
   "source": [
    "- fundamentally same\n",
    "1) array is homogeneous.\n",
    "2) list can be heterogeneous.\n",
    "3) in an array elements are stored at continous memory locations\n",
    "4) list doesnt follow the same\n",
    "5) `due to 3) and 4) array becomes more faster as accessing elements for pc becomes easy.`\n",
    "6) lists are more programmer frindly (idk how)"
   ]
  },
  {
   "cell_type": "markdown",
   "id": "3f8f5c8c-6ac5-40f6-bae9-bfeb135bd1e9",
   "metadata": {
    "jp-MarkdownHeadingCollapsed": true
   },
   "source": [
    "##### <span style = \"color : blue\">Create</span>"
   ]
  },
  {
   "cell_type": "code",
   "execution_count": 120,
   "id": "2a6d2c8a-4c7c-4fc3-a1ae-ac3d2acdf3b9",
   "metadata": {},
   "outputs": [],
   "source": [
    "L1 = [1,2,3,4,5]\n",
    "L2 = [\"one\",\"two\",\"three\",4]\n",
    "L2D = [[1,2],[3,4],[5,6]]\n",
    "L3D = [[[1,2],[3,4]],[[5,6],[7,8]]]\n",
    "Lconv = list(\"Akash\") #converts any string to list"
   ]
  },
  {
   "cell_type": "markdown",
   "id": "a353b4e0-8b14-45d1-81bd-a5fe38ffbf57",
   "metadata": {
    "jp-MarkdownHeadingCollapsed": true
   },
   "source": [
    "##### <span style = \"color : blue\">Access</span>"
   ]
  },
  {
   "cell_type": "code",
   "execution_count": 92,
   "id": "57654612-fdc3-4efb-83fe-da2ef05f7c5b",
   "metadata": {},
   "outputs": [
    {
     "data": {
      "text/plain": [
       "['A', 'k', 'a', 's', 'h']"
      ]
     },
     "execution_count": 92,
     "metadata": {},
     "output_type": "execute_result"
    }
   ],
   "source": [
    "Lconv[:]"
   ]
  },
  {
   "cell_type": "code",
   "execution_count": 98,
   "id": "be9ffdb4-a101-4fce-a642-b1c976f6fb69",
   "metadata": {},
   "outputs": [
    {
     "data": {
      "text/plain": [
       "4"
      ]
     },
     "execution_count": 98,
     "metadata": {},
     "output_type": "execute_result"
    }
   ],
   "source": [
    "L2D[1][1]"
   ]
  },
  {
   "cell_type": "code",
   "execution_count": 102,
   "id": "6e89e4f1-8108-4528-8eee-33b83f347b12",
   "metadata": {},
   "outputs": [
    {
     "data": {
      "text/plain": [
       "7"
      ]
     },
     "execution_count": 102,
     "metadata": {},
     "output_type": "execute_result"
    }
   ],
   "source": [
    "L3D[1][1][0]"
   ]
  },
  {
   "cell_type": "markdown",
   "id": "910db471-2491-498b-be06-ac48f17fb5aa",
   "metadata": {
    "jp-MarkdownHeadingCollapsed": true
   },
   "source": [
    "##### <span style = \"color : blue\">edit `thats was they mutable`</span>"
   ]
  },
  {
   "cell_type": "code",
   "execution_count": 103,
   "id": "2e627817-3624-47ff-ada2-b3a35753155c",
   "metadata": {},
   "outputs": [],
   "source": [
    "L1[1:4] = [22,33,44]"
   ]
  },
  {
   "cell_type": "code",
   "execution_count": 104,
   "id": "d2c06a51-47cc-474b-947c-88ca0d9a163e",
   "metadata": {},
   "outputs": [
    {
     "data": {
      "text/plain": [
       "[1, 22, 33, 44, 5]"
      ]
     },
     "execution_count": 104,
     "metadata": {},
     "output_type": "execute_result"
    }
   ],
   "source": [
    "L1"
   ]
  },
  {
   "cell_type": "markdown",
   "id": "ab746237-4b12-494e-8b90-871561fad03e",
   "metadata": {
    "jp-MarkdownHeadingCollapsed": true
   },
   "source": [
    "##### <span style = \"color : blue\">add</span>"
   ]
  },
  {
   "cell_type": "code",
   "execution_count": 106,
   "id": "2c2ebfa5-9e09-486a-8d1f-2d5bb9bc725a",
   "metadata": {},
   "outputs": [
    {
     "data": {
      "text/plain": [
       "['one', 'two', 'three', 4, 'A', 'k', 'a', 's', 'h']"
      ]
     },
     "execution_count": 106,
     "metadata": {},
     "output_type": "execute_result"
    }
   ],
   "source": [
    "L2 + Lconv"
   ]
  },
  {
   "cell_type": "markdown",
   "id": "1ddd10ba-ab2f-46e6-9b5f-b9e81ab72b80",
   "metadata": {},
   "source": [
    "_append_ `adds any single to last`"
   ]
  },
  {
   "cell_type": "code",
   "execution_count": 121,
   "id": "ae9474d6-dc03-4101-bb89-ba86bcb7dd39",
   "metadata": {},
   "outputs": [
    {
     "data": {
      "text/plain": [
       "[1, 2, 3, 4, 5, [1, 2]]"
      ]
     },
     "execution_count": 121,
     "metadata": {},
     "output_type": "execute_result"
    }
   ],
   "source": [
    "L1.append([1,2]) \n",
    "L1"
   ]
  },
  {
   "cell_type": "markdown",
   "id": "37efcc1c-b371-4b04-b15b-f8d21326938f",
   "metadata": {},
   "source": [
    "_extend_ `can add multiple elements any point`"
   ]
  },
  {
   "cell_type": "code",
   "execution_count": 122,
   "id": "0d3d5825-4b0b-4ca0-96e8-c5f2edfe726b",
   "metadata": {},
   "outputs": [],
   "source": [
    "L1.extend([77,88,99,110])"
   ]
  },
  {
   "cell_type": "code",
   "execution_count": 113,
   "id": "051f93e3-5f30-4cca-84a3-1d444e845f8b",
   "metadata": {},
   "outputs": [
    {
     "data": {
      "text/plain": [
       "[1, 22, 33, 44, 5, 66, 66, 77, 88, 99, 110]"
      ]
     },
     "execution_count": 113,
     "metadata": {},
     "output_type": "execute_result"
    }
   ],
   "source": [
    "L1"
   ]
  },
  {
   "cell_type": "markdown",
   "id": "8ecb383f-ff85-4b61-9159-36d8d3efdc17",
   "metadata": {},
   "source": [
    "_insert_ `adding at desired position`"
   ]
  },
  {
   "cell_type": "code",
   "execution_count": 123,
   "id": "b1bda93e-a64a-4873-a215-f160de78b655",
   "metadata": {},
   "outputs": [
    {
     "data": {
      "text/plain": [
       "[1, 11, 2, 3, 4, 5, [1, 2], 77, 88, 99, 110]"
      ]
     },
     "execution_count": 123,
     "metadata": {},
     "output_type": "execute_result"
    }
   ],
   "source": [
    "L1.insert(1,11) #1st pos for position and 2nd for element to be inserted\n",
    "L1"
   ]
  },
  {
   "cell_type": "markdown",
   "id": "2d3034b1-9f33-4c13-bbf2-7e97a2b61d6e",
   "metadata": {
    "jp-MarkdownHeadingCollapsed": true
   },
   "source": [
    "##### <span style = \"color : blue\">delete</span>"
   ]
  },
  {
   "cell_type": "markdown",
   "id": "7d5270b8-fd96-43b4-97dc-5be87b699446",
   "metadata": {},
   "source": [
    "_del_ <span style = 'color : red'> when you know index position</span>"
   ]
  },
  {
   "cell_type": "code",
   "execution_count": 118,
   "id": "38b79342-1a3b-4b86-8794-398879ab3b8c",
   "metadata": {},
   "outputs": [
    {
     "data": {
      "text/plain": [
       "['one', 'two', 'three', 4]"
      ]
     },
     "execution_count": 118,
     "metadata": {},
     "output_type": "execute_result"
    }
   ],
   "source": [
    "L2"
   ]
  },
  {
   "cell_type": "code",
   "execution_count": 124,
   "id": "3ff9930c-05bd-4761-99b8-cbb4593766f1",
   "metadata": {},
   "outputs": [
    {
     "data": {
      "text/plain": [
       "['two', 'three', 4]"
      ]
     },
     "execution_count": 124,
     "metadata": {},
     "output_type": "execute_result"
    }
   ],
   "source": [
    "del L2[0] #removes an element\n",
    "L2"
   ]
  },
  {
   "cell_type": "code",
   "execution_count": 125,
   "id": "489b2df5-4a70-41ac-bbd4-3c444edc4f48",
   "metadata": {},
   "outputs": [
    {
     "ename": "NameError",
     "evalue": "name 'L2' is not defined",
     "output_type": "error",
     "traceback": [
      "\u001b[31m---------------------------------------------------------------------------\u001b[39m",
      "\u001b[31mNameError\u001b[39m                                 Traceback (most recent call last)",
      "\u001b[36mCell\u001b[39m\u001b[36m \u001b[39m\u001b[32mIn[125]\u001b[39m\u001b[32m, line 2\u001b[39m\n\u001b[32m      1\u001b[39m \u001b[38;5;28;01mdel\u001b[39;00m L2\n\u001b[32m----> \u001b[39m\u001b[32m2\u001b[39m \u001b[43mL2\u001b[49m\n",
      "\u001b[31mNameError\u001b[39m: name 'L2' is not defined"
     ]
    }
   ],
   "source": [
    "del L2  #Completely deleetes list\n",
    "L2"
   ]
  },
  {
   "cell_type": "markdown",
   "id": "7866e36f-c6bb-46ba-a4ac-3100ca58cabd",
   "metadata": {},
   "source": [
    "_remove_ <span style = 'color : red'> when you dont know index position and only know element</span>"
   ]
  },
  {
   "cell_type": "code",
   "execution_count": 128,
   "id": "bc078d68-0c9c-4a5d-b19d-f73143e8c64e",
   "metadata": {},
   "outputs": [
    {
     "data": {
      "text/plain": [
       "['A', 's', 'h']"
      ]
     },
     "execution_count": 128,
     "metadata": {},
     "output_type": "execute_result"
    }
   ],
   "source": [
    "Lconv.remove(\"a\")\n",
    "Lconv"
   ]
  },
  {
   "cell_type": "markdown",
   "id": "f3b2b233-b8a0-4fb5-8ba2-4f6b49bdbc42",
   "metadata": {},
   "source": [
    "_pop_ <span style = 'color:red'>always remove last element</span>"
   ]
  },
  {
   "cell_type": "code",
   "execution_count": 129,
   "id": "345888b6-eda1-4bd2-8acb-5764c0db2dc6",
   "metadata": {},
   "outputs": [
    {
     "data": {
      "text/plain": [
       "['A', 's']"
      ]
     },
     "execution_count": 129,
     "metadata": {},
     "output_type": "execute_result"
    }
   ],
   "source": [
    "Lconv.pop()\n",
    "Lconv"
   ]
  },
  {
   "cell_type": "markdown",
   "id": "9e3092c4-29d5-4371-9008-4926388d898c",
   "metadata": {},
   "source": [
    "_clear_ <span style = 'color : red'> cleares a list not deletes it </span>"
   ]
  },
  {
   "cell_type": "code",
   "execution_count": 130,
   "id": "c6c5db18-4075-4511-95f8-b2530c838fa4",
   "metadata": {},
   "outputs": [
    {
     "data": {
      "text/plain": [
       "[]"
      ]
     },
     "execution_count": 130,
     "metadata": {},
     "output_type": "execute_result"
    }
   ],
   "source": [
    "Lconv.clear()\n",
    "Lconv"
   ]
  },
  {
   "cell_type": "markdown",
   "id": "a580b5db-013b-427c-935c-d500c752ede4",
   "metadata": {
    "jp-MarkdownHeadingCollapsed": true
   },
   "source": [
    "##### <span style = \"color : blue\">operations</span>"
   ]
  },
  {
   "cell_type": "markdown",
   "id": "b2b94daf-5217-4eab-bed6-b8a0d04f75a9",
   "metadata": {},
   "source": [
    "basic operations like addtion multiplication ,loop ,  in etc "
   ]
  },
  {
   "cell_type": "markdown",
   "id": "6545edcf-1e6f-4ea1-b8d1-25ab88e2aef2",
   "metadata": {
    "jp-MarkdownHeadingCollapsed": true
   },
   "source": [
    "##### <span style = \"color : blue\">functions</span>"
   ]
  },
  {
   "cell_type": "code",
   "execution_count": 132,
   "id": "9f600ccf-f279-4a31-ba05-07af187db330",
   "metadata": {},
   "outputs": [
    {
     "data": {
      "text/plain": [
       "11"
      ]
     },
     "execution_count": 132,
     "metadata": {},
     "output_type": "execute_result"
    }
   ],
   "source": [
    "len(L1)"
   ]
  },
  {
   "cell_type": "code",
   "execution_count": 138,
   "id": "a27b558f-97a1-4354-9317-98d20bdf2b35",
   "metadata": {},
   "outputs": [
    {
     "data": {
      "text/plain": [
       "1"
      ]
     },
     "execution_count": 138,
     "metadata": {},
     "output_type": "execute_result"
    }
   ],
   "source": [
    "min(L1)"
   ]
  },
  {
   "cell_type": "code",
   "execution_count": 139,
   "id": "a09cd305-6189-4ba6-868b-b75d9d7848c5",
   "metadata": {},
   "outputs": [
    {
     "data": {
      "text/plain": [
       "110"
      ]
     },
     "execution_count": 139,
     "metadata": {},
     "output_type": "execute_result"
    }
   ],
   "source": [
    "max(L1)"
   ]
  },
  {
   "cell_type": "code",
   "execution_count": 140,
   "id": "00ddeef0-bd71-49df-a4ef-dc4b54def9e8",
   "metadata": {},
   "outputs": [
    {
     "data": {
      "text/plain": [
       "[1, 2, 3, 4, 5, 11, 77, 88, 99, 110]"
      ]
     },
     "execution_count": 140,
     "metadata": {},
     "output_type": "execute_result"
    }
   ],
   "source": [
    "sorted(L1) #not a perm option"
   ]
  },
  {
   "cell_type": "code",
   "execution_count": 141,
   "id": "320bbce9-89a5-44b1-880e-37c1dcee236f",
   "metadata": {},
   "outputs": [
    {
     "data": {
      "text/plain": [
       "[1, 2, 3, 4, 5, 11, 77, 88, 99, 110]"
      ]
     },
     "execution_count": 141,
     "metadata": {},
     "output_type": "execute_result"
    }
   ],
   "source": [
    "L1.sort() #permanent change\n",
    "L1"
   ]
  },
  {
   "cell_type": "code",
   "execution_count": 142,
   "id": "b9e9feba-fcc5-40c6-ae5e-7c7d8898836b",
   "metadata": {},
   "outputs": [
    {
     "data": {
      "text/plain": [
       "[1, 2, 3, 4, 5, 11, 77, 88, 99, 110]"
      ]
     },
     "execution_count": 142,
     "metadata": {},
     "output_type": "execute_result"
    }
   ],
   "source": [
    "L1"
   ]
  },
  {
   "cell_type": "markdown",
   "id": "b9eb475f-2a82-4b18-b0f9-52267c4af017",
   "metadata": {},
   "source": [
    "##### <span style = \"color : green\">PROBLEMS</span>"
   ]
  },
  {
   "cell_type": "markdown",
   "id": "a2eac731-2eee-453d-9094-2f726a9b9f09",
   "metadata": {},
   "source": [
    "<span style = \"color : green\">PROB1</span>\n",
    "WAP to work similar to .title()  \n",
    ">hello how are you -> Hello How Are You"
   ]
  },
  {
   "cell_type": "code",
   "execution_count": 177,
   "id": "1a3193cd-5ff5-4e0a-bcda-6df0f77fff8d",
   "metadata": {},
   "outputs": [],
   "source": [
    "a = \"hello how are you\"\n",
    "a = list(a)\n",
    "result = \"\""
   ]
  },
  {
   "cell_type": "code",
   "execution_count": 178,
   "id": "49dc66b0-3280-4a62-afc2-765c52daff9a",
   "metadata": {},
   "outputs": [],
   "source": [
    "\n",
    "for i in range(len(a)):\n",
    "    if i == 0:\n",
    "        result+=a[i].upper()\n",
    "    elif a[i-1] == \" \":\n",
    "        result+=a[i].upper()\n",
    "    else:\n",
    "        result+=a[i]\n",
    "    "
   ]
  },
  {
   "cell_type": "code",
   "execution_count": 179,
   "id": "86fe1ac6-9696-4358-bd85-4fc052adb592",
   "metadata": {},
   "outputs": [
    {
     "data": {
      "text/plain": [
       "'Hello How Are You'"
      ]
     },
     "execution_count": 179,
     "metadata": {},
     "output_type": "execute_result"
    }
   ],
   "source": [
    "result"
   ]
  },
  {
   "cell_type": "markdown",
   "id": "d8104740-b28d-472f-bfb1-36f109bfda3c",
   "metadata": {},
   "source": [
    "___"
   ]
  },
  {
   "cell_type": "markdown",
   "id": "da70df31-8026-4241-b1f1-14986c1fff8c",
   "metadata": {},
   "source": [
    "<span style = \"color : green\">PROB2</span>\n",
    "WAP to obtain whatever before @ in an email\n",
    ">akash123@gmail -> akash123"
   ]
  },
  {
   "cell_type": "code",
   "execution_count": 191,
   "id": "daf9a21b-654b-4630-8448-d991ff0e9e0a",
   "metadata": {},
   "outputs": [
    {
     "data": {
      "text/plain": [
       "'akash123'"
      ]
     },
     "execution_count": 191,
     "metadata": {},
     "output_type": "execute_result"
    }
   ],
   "source": [
    "a = 'akash123@gmail.com'\n",
    "a = a.split(sep = '@')\n",
    "a[0]"
   ]
  },
  {
   "cell_type": "markdown",
   "id": "5241919b-dd1d-4e2c-91e2-605e70e54195",
   "metadata": {},
   "source": [
    "___"
   ]
  },
  {
   "cell_type": "markdown",
   "id": "9af4effa-0649-46b1-a290-a2c0f04ca286",
   "metadata": {},
   "source": [
    "<span style = \"color : green\">PROB3</span>\n",
    "WAP to obtain all digits non repeating from list\n",
    ">[1,1,3,1,2,2,4,4,1] -> [1,2,3,4]"
   ]
  },
  {
   "cell_type": "code",
   "execution_count": 227,
   "id": "a8c6c1f0-aa71-4445-8ba5-19740915271e",
   "metadata": {},
   "outputs": [],
   "source": [
    "a = [1,1,3,1,2,2,4,4,1]\n",
    "result = []"
   ]
  },
  {
   "cell_type": "code",
   "execution_count": 228,
   "id": "dc8af9db-e732-4292-8779-a1df2f78ae5c",
   "metadata": {},
   "outputs": [
    {
     "data": {
      "text/plain": [
       "[1, 2, 3, 4]"
      ]
     },
     "execution_count": 228,
     "metadata": {},
     "output_type": "execute_result"
    }
   ],
   "source": [
    "for i in a:\n",
    "    if i not in result:\n",
    "        result.append(i)\n",
    "result.sort()\n",
    "result"
   ]
  },
  {
   "cell_type": "markdown",
   "id": "06a5c6bd-cdb6-4569-9932-5b4106abbb0c",
   "metadata": {},
   "source": [
    "___"
   ]
  },
  {
   "cell_type": "markdown",
   "id": "5a6869ac-df54-41d3-b956-a3b21229b5b5",
   "metadata": {
    "jp-MarkdownHeadingCollapsed": true
   },
   "source": [
    "## 11) Class, Objects and Functions"
   ]
  },
  {
   "cell_type": "markdown",
   "id": "f13ae8e8-4ab8-4b23-8b94-159d4b0e9e89",
   "metadata": {},
   "source": [
    "#### <span style = \"color : blue\"> *Generality To Specificity* </span>"
   ]
  },
  {
   "cell_type": "markdown",
   "id": "ee5304eb-77ce-4603-b6fb-5631152b05ef",
   "metadata": {},
   "source": [
    "- Let's say you want to use `list` in your application but you dont require additional functions of lists but knowing python calling lists will load all the functions of lists in memory.\n",
    "- To solve this problem you can create your own `Object` `List` and specify its functions to be used w.r.t your programme."
   ]
  },
  {
   "cell_type": "code",
   "execution_count": 140,
   "id": "989d7863-fc59-48bd-97da-c1284d901640",
   "metadata": {},
   "outputs": [],
   "source": [
    "#### <span style = \"color : blue\">  </span>"
   ]
  },
  {
   "cell_type": "markdown",
   "id": "d4e59252-321e-4961-9a68-76115ed879eb",
   "metadata": {},
   "source": [
    "- _`Class` is a propernoun_ : Class defines a whole general body. : <span style = \"color : green\"> Car </span>\n",
    "- _`Object` is a noun_ : Object is specific body under that `Class` Category. : <span style = \"color : green\"> Wagon R </span>\n",
    "- _`Function` is verb_ : Function is characteristic of that Object or Class. : <span style = \"color : green\"> Speed, Color, Variant, </span>"
   ]
  },
  {
   "cell_type": "markdown",
   "id": "f00fb3e9-7eb9-49ad-a509-09848584ad5c",
   "metadata": {},
   "source": [
    "##### <span style = \"color : blue\"> Creating a Class </span>"
   ]
  },
  {
   "cell_type": "markdown",
   "id": "bee52abf-d07e-423c-8a59-b85cc3914793",
   "metadata": {
    "jp-MarkdownHeadingCollapsed": true
   },
   "source": [
    "###### Car"
   ]
  },
  {
   "cell_type": "code",
   "execution_count": 282,
   "id": "56007b97-0f8a-42d3-9161-83d4a9b3377b",
   "metadata": {},
   "outputs": [
    {
     "name": "stdout",
     "output_type": "stream",
     "text": [
      "Red Toyota (RegID: 1001) is starting...\n",
      "Black BMW (RegID: 1002) is starting...\n"
     ]
    }
   ],
   "source": [
    "class Car:\n",
    "    counter = 1000  # class variable shared by all cars\n",
    "\n",
    "    def __init__(self, brand, color, speed):\n",
    "        self.brand = brand #Instance Variable\n",
    "        self.color = color\n",
    "        self.speed = speed\n",
    "        \n",
    "        # Assign unique registration ID\n",
    "        Car.counter += 1\n",
    "        self.RegID = Car.counter\n",
    "    def start(self):\n",
    "        print(f\"{self.color} {self.brand} (RegID: {self.RegID}) is starting...\")\n",
    "\n",
    "    def drive(self, distance):\n",
    "        time = distance / self.speed\n",
    "        print(f\"{self.brand} drove {distance} km in {time:.2f} hours.\")\n",
    "\n",
    "# Create objects\n",
    "my_car = Car(\"Toyota\", \"Red\", 60)\n",
    "friend_car = Car(\"BMW\", \"Black\", 80)\n",
    "\n",
    "# Test\n",
    "my_car.start()        \n",
    "friend_car.start()    \n"
   ]
  },
  {
   "cell_type": "markdown",
   "id": "5f793ac9-7c2d-4eab-a07f-3160b35f0748",
   "metadata": {
    "jp-MarkdownHeadingCollapsed": true
   },
   "source": [
    "###### ATM"
   ]
  },
  {
   "cell_type": "code",
   "execution_count": 93,
   "id": "a67ea2ee-3e73-4f82-b803-238264f0b99a",
   "metadata": {},
   "outputs": [],
   "source": [
    "class Atm:                                                    #ATM\n",
    "    def __init__(self, pin, balance):\n",
    "        self.pin = str(pin)  # store as string for easier comparison\n",
    "        self.balance = int(balance)\n",
    "    \n",
    "    def __init__(self):                     #PRIOR ACTIVATE FUNCTION              #FUNCTION #MAGIC METHOD\n",
    "        print(\"Welcome to THEBAANK\")\n",
    "        self.pin = input(\"Create a PIN: \")\n",
    "        print(\"Congrats! PIN was created.\")\n",
    "        self.balance = int(input(\"Enter some balance\"))\n",
    "    \n",
    "    def checkBalance(self):\n",
    "        temp = input(\"Enter your PIN: \")\n",
    "        if temp == self.pin:\n",
    "            print(f\"Your balance is {self.balance}\")\n",
    "        else:\n",
    "            print(\"PIN is wrong. Try again!\")\n",
    "    \n",
    "    def deposit(self):\n",
    "        temp = input(\"Enter your PIN: \")\n",
    "        if temp == self.pin:\n",
    "            amount = int(input(\"Enter the amount to deposit: \"))\n",
    "            self.balance = amount + self.balance\n",
    "            print(f\"Your amount has been deposited. Total balance is {self.balance}\")\n",
    "        else:\n",
    "            print(\"Wrong PIN\")\n",
    "    \n",
    "    def withdraw(self):\n",
    "        temp = input(\"Enter your PIN: \")\n",
    "        if temp == self.pin:\n",
    "            amount = int(input(\"Enter the amount to withdraw: \"))\n",
    "            if amount <= self.balance:\n",
    "                self.balance = self.balance - amount \n",
    "                print(f\"Your amount has been withdrawn. Total balance remains {self.balance}\")\n",
    "            else:\n",
    "                print(\"Not enough balance.\")\n",
    "        else:\n",
    "            print(\"Wrong PIN\")\n"
   ]
  },
  {
   "cell_type": "code",
   "execution_count": 88,
   "id": "28790694-f57e-491f-973e-a99e16d53d7a",
   "metadata": {},
   "outputs": [
    {
     "name": "stdout",
     "output_type": "stream",
     "text": [
      "Welcome to THEBAANK\n"
     ]
    },
    {
     "name": "stdin",
     "output_type": "stream",
     "text": [
      "Create a PIN:  12345\n"
     ]
    },
    {
     "name": "stdout",
     "output_type": "stream",
     "text": [
      "Congrats! PIN was created.\n"
     ]
    },
    {
     "name": "stdin",
     "output_type": "stream",
     "text": [
      "Enter some balance 10\n"
     ]
    }
   ],
   "source": [
    "my_atm = Atm()"
   ]
  },
  {
   "cell_type": "code",
   "execution_count": 89,
   "id": "c3d1ac74-cca3-4eb5-b12f-bd55a6c6663e",
   "metadata": {},
   "outputs": [
    {
     "name": "stdin",
     "output_type": "stream",
     "text": [
      "Enter your PIN:  12345\n",
      "Enter the amount to deposit:  12\n"
     ]
    },
    {
     "name": "stdout",
     "output_type": "stream",
     "text": [
      "Your amount has been deposited. Total balance is 22\n"
     ]
    }
   ],
   "source": [
    "my_atm.deposit()"
   ]
  },
  {
   "cell_type": "code",
   "execution_count": 91,
   "id": "5155c101-eb21-417a-a4af-14659891c3f3",
   "metadata": {},
   "outputs": [
    {
     "name": "stdin",
     "output_type": "stream",
     "text": [
      "Enter your PIN:  12345\n",
      "Enter the amount to withdraw:  4\n"
     ]
    },
    {
     "name": "stdout",
     "output_type": "stream",
     "text": [
      "Your amount has been withdrawn. Total balance remains 20\n"
     ]
    }
   ],
   "source": [
    "my_atm.withdraw()"
   ]
  },
  {
   "cell_type": "markdown",
   "id": "6570a310-38ad-4cc4-afc3-17fd8eb0f07d",
   "metadata": {
    "jp-MarkdownHeadingCollapsed": true
   },
   "source": [
    "###### <span style = \"color : blue\"> Magic Method </span>"
   ]
  },
  {
   "cell_type": "markdown",
   "id": "452eade5-d989-449e-8835-79be129ccb01",
   "metadata": {},
   "source": [
    "a `constructor` which is automatically evoked once the `class` is created is **MAGIC METHOD**\n",
    "- like the function `activate()`."
   ]
  },
  {
   "cell_type": "markdown",
   "id": "63b2f915-1476-4a38-b3cd-f65dd6cfbf4a",
   "metadata": {},
   "source": [
    "`constrcutor` function can be controlled (pre-controlled) by a programmer and not custome.\n",
    "- function `withdraw`, `deposit` where all controlled by customer as per there needs but first time entering pin and depositing some balance when they created there account was automatically initiated without there need to activate or concern."
   ]
  },
  {
   "cell_type": "markdown",
   "id": "42fd5c22-a5a3-4c54-8b5e-485816a8c5d6",
   "metadata": {
    "jp-MarkdownHeadingCollapsed": true
   },
   "source": [
    "###### <span style = \"color : blue\"> Making Fraction Datatype </span>"
   ]
  },
  {
   "cell_type": "code",
   "execution_count": 135,
   "id": "db0a9d5b-6ee7-4d01-a55a-d4b386115a85",
   "metadata": {},
   "outputs": [],
   "source": [
    "class Fraction:\n",
    "    def __init__(self, nume, deno):\n",
    "        self.nume = nume\n",
    "        self.deno = deno\n",
    "\n",
    "    def __str__(self):\n",
    "        return \"{}/{}\".format(self.nume, self.deno)\n",
    "        \n",
    "        # Or: return f\"{self.nume}/{self.deno}\"\n",
    "    def __repr__(self):\n",
    "        return self.__str__()  # So even in Jupyter, it shows nicely\n",
    "        \n",
    "    def __add__(self,other): #CONSTRUCTOR\n",
    "        tempN = self.nume * other.deno + self.deno * other.nume\n",
    "        tempD = self.deno * other.deno\n",
    "        return Fraction(tempN, tempD)\n"
   ]
  },
  {
   "cell_type": "markdown",
   "id": "98ef8f54-7838-4d87-a117-b6ce1017c8d5",
   "metadata": {
    "jp-MarkdownHeadingCollapsed": true
   },
   "source": [
    "## 12) File Handeling"
   ]
  },
  {
   "cell_type": "markdown",
   "id": "7ab6407f-6770-44b0-90df-4fa88b19ed07",
   "metadata": {
    "jp-MarkdownHeadingCollapsed": true
   },
   "source": [
    "### INTRO"
   ]
  },
  {
   "cell_type": "markdown",
   "id": "ada839f9-10a0-4585-b5b8-fcf15a957c9f",
   "metadata": {},
   "source": [
    "- Types of files in Windows.\n",
    "  >Image \\\n",
    "  >Text \\\n",
    "  >Executable \\\n",
    "  >Audio \n",
    "\n",
    "- Types of files in Python.\n",
    "  >**Binary**:  Simply Whatever is not text, its binary 0's 1's \\\n",
    "  >**Tex**t:  Requires Strings or text or sequence of lines aka code or syntax and everyline is terminated with a special character EOL.\n",
    "  "
   ]
  },
  {
   "cell_type": "markdown",
   "id": "12ebb225-4b33-425a-b25d-34291bc12fa6",
   "metadata": {},
   "source": [
    "<tt><span style = \"color : green\"> \n",
    "File handeling revolves around following operations </span> \n",
    "1) Creating\n",
    "2) Reading\n",
    "3) Updating\n",
    "4) Deletion\n",
    "<span style = \"color : green\"> or simply **CRUD** </span> \n",
    "<tt>"
   ]
  },
  {
   "cell_type": "markdown",
   "id": "1ae431a2-bb20-4887-8a41-0466b30661d8",
   "metadata": {},
   "source": [
    "### Python File Handling System"
   ]
  },
  {
   "cell_type": "markdown",
   "id": "943ef0f3-7011-4ba8-982c-92e58ccf63c3",
   "metadata": {},
   "source": [
    "1) Create File\n",
    "2) Open File\n",
    "3) Work\n",
    "4) Close File"
   ]
  },
  {
   "cell_type": "markdown",
   "id": "3f1bb8c3-5a5b-4359-b1a3-05af04a95a74",
   "metadata": {},
   "source": [
    "**OPENING**\n",
    "`open()` \\\n",
    "    _- Filename_ : location and extension of file you want to open \\\n",
    "    _- `Mode`_ : \n",
    "        - `r` Read Mode \n",
    "        - `a` Append \n",
    "        - `w` Write \n",
    "        - `x` Create \\\n",
    "eg: *open(filename,mode)* \\\n",
    "In addition u can also add `\"t\"` for text mode and `\"b\"` for binary mode while using open()."
   ]
  },
  {
   "cell_type": "markdown",
   "id": "4e7c2b1a-4e9f-4b2e-a23d-47698f15897e",
   "metadata": {},
   "source": [
    "eg :\\\n",
    "`f = open(\"hello.txt\",\"r\")`\\\n",
    "`f.read()`"
   ]
  },
  {
   "cell_type": "markdown",
   "id": "58b64244-da93-4b93-87c1-76b8b0930c1e",
   "metadata": {
    "jp-MarkdownHeadingCollapsed": true
   },
   "source": [
    "## 13)  Exception Handling"
   ]
  },
  {
   "cell_type": "markdown",
   "id": "490258e5-ad81-4f0d-9191-d1f2a2feb201",
   "metadata": {},
   "source": [
    "- Python uses exceptions, not error codes.  \n",
    "- try/except is for handling runtime errors gracefully.  \n",
    "- else is for code that should run only if no exception.  \n",
    "- finally is for cleanup.  \n",
    "- Always catch specific exceptions first, then general ones.  \n",
    "- You can define custom exception classes for clarity.\n",
    "- Some common errors are below:  "
   ]
  },
  {
   "cell_type": "markdown",
   "id": "05d63d96-0d47-497e-b04e-9f6759063241",
   "metadata": {},
   "source": [
    "| Exception Name                                | When It Happens                                               | Example                       |\n",
    "| --------------------------------------------- | ------------------------------------------------------------- | ----------------------------- |\n",
    "| **`SyntaxError`**                             | Code syntax is wrong (caught at compile time, not with `try`) | `if True print(\"Hi\")`         |\n",
    "| **`IndentationError`**                        | Wrong indentation                                             | `  print(\"bad\")`              |\n",
    "| **`NameError`**                               | Using a variable that hasn’t been defined                     | `print(x)`                    |\n",
    "| **`TypeError`**                               | Operation on incompatible data types                          | `5 + \"abc\"`                   |\n",
    "| **`ValueError`**                              | Wrong value for a function argument                           | `int(\"abc\")`                  |\n",
    "| **`ZeroDivisionError`**                       | Division by zero                                              | `10 / 0`                      |\n",
    "| **`IndexError`**                              | List/tuple index out of range                                 | `arr[5]`                      |\n",
    "| **`KeyError`**                                | Dictionary key doesn’t exist                                  | `{\"a\":1}[\"b\"]`                |\n",
    "| **`AttributeError`**                          | Accessing an attribute that doesn’t exist                     | `\"hello\".push()`              |\n",
    "| **`FileNotFoundError`**                       | Opening a non-existent file                                   | `open(\"nofile.txt\")`          |\n",
    "| **`IOError`**                                 | General input/output errors                                   | File reading/writing fails    |\n",
    "| **`ImportError`** / **`ModuleNotFoundError`** | Importing a missing module                                    | `import not_exist`            |\n",
    "| **`RuntimeError`**                            | Generic error when no specific exception applies              | Manually raised in rare cases |\n",
    "| **`StopIteration`**                           | Iterator has no more items                                    | `next(iter([]))`              |\n",
    "| **`OverflowError`**                           | Number too large to handle (rare in Python)                   | math functions                |\n",
    "| **`MemoryError`**                             | Not enough memory                                             | Creating huge list            |\n",
    "| **`AssertionError`**                          | `assert` statement fails                                      | `assert 2 > 3`                |\n"
   ]
  },
  {
   "cell_type": "code",
   "execution_count": 273,
   "id": "9552492d-00e3-4e6f-948d-919217d4cfb0",
   "metadata": {},
   "outputs": [
    {
     "name": "stdin",
     "output_type": "stream",
     "text": [
      "Enter a number:  e\n"
     ]
    },
    {
     "name": "stdout",
     "output_type": "stream",
     "text": [
      "❌ Invalid number entered\n"
     ]
    }
   ],
   "source": [
    "try:\n",
    "    # Code that may cause an error\n",
    "    num = int(input(\"Enter a number: \"))\n",
    "    print(10 / num)\n",
    "except ZeroDivisionError:\n",
    "    print(\"❌ Cannot divide by zero\")\n",
    "except ValueError:\n",
    "    print(\"❌ Invalid number entered\")\n"
   ]
  },
  {
   "cell_type": "code",
   "execution_count": 269,
   "id": "5971c01e-1172-476e-888e-41967ab6141d",
   "metadata": {},
   "outputs": [
    {
     "name": "stdout",
     "output_type": "stream",
     "text": [
      "Possible malicious file detected!\n",
      "Executing Finally...\n"
     ]
    }
   ],
   "source": [
    "class Malware(Exception):  #Custom Exception\n",
    "    pass\n",
    "\n",
    "\n",
    "try:\n",
    "    f = open(\"master\")\n",
    "    if f.name == 'master':\n",
    "        raise Malware(\"Possible malicious file detected!\")\n",
    "except FileNotFoundError as e:  # File doesn't exist\n",
    "    print(e)\n",
    "except Malware as e:  # Our custom exception\n",
    "    print(e)\n",
    "except Exception as e:  # Generic exception\n",
    "    print(e)\n",
    "else:  # Runs only if no exceptions\n",
    "    print(f.read())\n",
    "    f.close()\n",
    "finally:  # Runs no matter what\n",
    "    print(\"Executing Finally...\")\n",
    "    f.close()"
   ]
  },
  {
   "cell_type": "markdown",
   "id": "f187997b-5bab-472a-8f1e-3a9e623f7806",
   "metadata": {},
   "source": [
    "## 14)Regular Expressions"
   ]
  },
  {
   "cell_type": "markdown",
   "id": "2d04126f-5c1c-4fa3-a050-1bef8137bea2",
   "metadata": {},
   "source": [
    "<span style = \"color : green\"> Smart search pattern which lets your match, search and manipulate text based on patterns instead of exact word </span>  \n",
    "`import re` is required"
   ]
  },
  {
   "cell_type": "markdown",
   "id": "1a79f79f-56da-4540-a336-d412831c3a41",
   "metadata": {},
   "source": [
    "| Pattern | Matches                                |    |\n",
    "| ------- | -------------------------------------- | -- |\n",
    "| `.`     | Any single character except newline    |    |\n",
    "| `\\d`    | Digit (0–9)                            |    |\n",
    "| `\\D`    | Non-digit                              |    |\n",
    "| `\\w`    | Word character (a–z, A–Z, 0–9, \\_)     |    |\n",
    "| `\\W`    | Non-word character                     |    |\n",
    "| `\\s`    | Whitespace                             |    |\n",
    "| `\\S`    | Non-whitespace                         |    |\n",
    "| `^`     | Start of string                        |    |\n",
    "| `$`     | End of string                          |    |\n",
    "| `*`     | 0 or more repetitions                  |    |\n",
    "| `+`     | 1 or more repetitions                  |    |\n",
    "| `?`     | 0 or 1 repetition                      |    |\n",
    "| `{n}`   | Exactly n repetitions                  |    |\n",
    "| `{n,m}` | Between n and m repetitions            |    |\n",
    "| `[...]` | Matches any one character from the set |    |\n",
    "| \\`      | \\`                                     | OR |\n"
   ]
  },
  {
   "cell_type": "code",
   "execution_count": 285,
   "id": "8c0d81df-fbc4-4d8c-935d-f7e02211cb4b",
   "metadata": {},
   "outputs": [],
   "source": [
    "import re"
   ]
  },
  {
   "cell_type": "code",
   "execution_count": 314,
   "id": "6ed4b0ee-77d2-44a3-80b6-799fc72acc7e",
   "metadata": {
    "collapsed": true,
    "jupyter": {
     "outputs_hidden": true
    }
   },
   "outputs": [
    {
     "name": "stdout",
     "output_type": "stream",
     "text": [
      "<re.Match object; span=(1, 2), match='H'>\n",
      "<re.Match object; span=(2, 3), match='e'>\n",
      "<re.Match object; span=(3, 4), match='l'>\n",
      "<re.Match object; span=(4, 5), match='l'>\n",
      "<re.Match object; span=(5, 6), match='o'>\n",
      "<re.Match object; span=(8, 9), match='m'>\n",
      "<re.Match object; span=(9, 10), match='y'>\n",
      "<re.Match object; span=(11, 12), match='n'>\n",
      "<re.Match object; span=(12, 13), match='a'>\n",
      "<re.Match object; span=(13, 14), match='m'>\n",
      "<re.Match object; span=(14, 15), match='e'>\n",
      "<re.Match object; span=(16, 17), match='i'>\n",
      "<re.Match object; span=(17, 18), match='s'>\n",
      "<re.Match object; span=(19, 20), match='A'>\n",
      "<re.Match object; span=(20, 21), match='k'>\n",
      "<re.Match object; span=(21, 22), match='a'>\n",
      "<re.Match object; span=(22, 23), match='s'>\n",
      "<re.Match object; span=(23, 24), match='h'>\n",
      "<re.Match object; span=(27, 28), match='Y'>\n",
      "<re.Match object; span=(28, 29), match='o'>\n",
      "<re.Match object; span=(29, 30), match='u'>\n",
      "<re.Match object; span=(31, 32), match='c'>\n",
      "<re.Match object; span=(32, 33), match='a'>\n",
      "<re.Match object; span=(33, 34), match='n'>\n",
      "<re.Match object; span=(35, 36), match='e'>\n",
      "<re.Match object; span=(36, 37), match='m'>\n",
      "<re.Match object; span=(37, 38), match='a'>\n",
      "<re.Match object; span=(38, 39), match='i'>\n",
      "<re.Match object; span=(39, 40), match='l'>\n",
      "<re.Match object; span=(41, 42), match='m'>\n",
      "<re.Match object; span=(42, 43), match='e'>\n",
      "<re.Match object; span=(44, 45), match='a'>\n",
      "<re.Match object; span=(45, 46), match='t'>\n",
      "<re.Match object; span=(47, 48), match='a'>\n",
      "<re.Match object; span=(48, 49), match='k'>\n",
      "<re.Match object; span=(49, 50), match='a'>\n",
      "<re.Match object; span=(50, 51), match='s'>\n",
      "<re.Match object; span=(51, 52), match='h'>\n",
      "<re.Match object; span=(53, 54), match='t'>\n",
      "<re.Match object; span=(54, 55), match='e'>\n",
      "<re.Match object; span=(55, 56), match='s'>\n",
      "<re.Match object; span=(56, 57), match='t'>\n",
      "<re.Match object; span=(57, 58), match='1'>\n",
      "<re.Match object; span=(58, 59), match='2'>\n",
      "<re.Match object; span=(59, 60), match='3'>\n",
      "<re.Match object; span=(61, 62), match='e'>\n",
      "<re.Match object; span=(62, 63), match='x'>\n",
      "<re.Match object; span=(63, 64), match='a'>\n",
      "<re.Match object; span=(64, 65), match='m'>\n",
      "<re.Match object; span=(65, 66), match='p'>\n",
      "<re.Match object; span=(66, 67), match='l'>\n",
      "<re.Match object; span=(67, 68), match='e'>\n",
      "<re.Match object; span=(69, 70), match='c'>\n",
      "<re.Match object; span=(70, 71), match='o'>\n",
      "<re.Match object; span=(71, 72), match='m'>\n",
      "<re.Match object; span=(73, 74), match='o'>\n",
      "<re.Match object; span=(74, 75), match='r'>\n",
      "<re.Match object; span=(76, 77), match='s'>\n",
      "<re.Match object; span=(77, 78), match='u'>\n",
      "<re.Match object; span=(78, 79), match='p'>\n",
      "<re.Match object; span=(79, 80), match='p'>\n",
      "<re.Match object; span=(80, 81), match='o'>\n",
      "<re.Match object; span=(81, 82), match='r'>\n",
      "<re.Match object; span=(82, 83), match='t'>\n",
      "<re.Match object; span=(84, 85), match='m'>\n",
      "<re.Match object; span=(85, 86), match='y'>\n",
      "<re.Match object; span=(87, 88), match='s'>\n",
      "<re.Match object; span=(88, 89), match='i'>\n",
      "<re.Match object; span=(89, 90), match='t'>\n",
      "<re.Match object; span=(90, 91), match='e'>\n",
      "<re.Match object; span=(92, 93), match='c'>\n",
      "<re.Match object; span=(93, 94), match='o'>\n",
      "<re.Match object; span=(95, 96), match='i'>\n",
      "<re.Match object; span=(96, 97), match='n'>\n",
      "<re.Match object; span=(100, 101), match='I'>\n",
      "<re.Match object; span=(102, 103), match='w'>\n",
      "<re.Match object; span=(103, 104), match='a'>\n",
      "<re.Match object; span=(104, 105), match='s'>\n",
      "<re.Match object; span=(106, 107), match='b'>\n",
      "<re.Match object; span=(107, 108), match='o'>\n",
      "<re.Match object; span=(108, 109), match='r'>\n",
      "<re.Match object; span=(109, 110), match='n'>\n",
      "<re.Match object; span=(111, 112), match='o'>\n",
      "<re.Match object; span=(112, 113), match='n'>\n",
      "<re.Match object; span=(114, 115), match='1'>\n",
      "<re.Match object; span=(115, 116), match='2'>\n",
      "<re.Match object; span=(117, 118), match='0'>\n",
      "<re.Match object; span=(118, 119), match='8'>\n",
      "<re.Match object; span=(120, 121), match='1'>\n",
      "<re.Match object; span=(121, 122), match='9'>\n",
      "<re.Match object; span=(122, 123), match='9'>\n",
      "<re.Match object; span=(123, 124), match='5'>\n",
      "<re.Match object; span=(126, 127), match='a'>\n",
      "<re.Match object; span=(127, 128), match='n'>\n",
      "<re.Match object; span=(128, 129), match='d'>\n",
      "<re.Match object; span=(130, 131), match='m'>\n",
      "<re.Match object; span=(131, 132), match='y'>\n",
      "<re.Match object; span=(133, 134), match='f'>\n",
      "<re.Match object; span=(134, 135), match='r'>\n",
      "<re.Match object; span=(135, 136), match='i'>\n",
      "<re.Match object; span=(136, 137), match='e'>\n",
      "<re.Match object; span=(137, 138), match='n'>\n",
      "<re.Match object; span=(138, 139), match='d'>\n",
      "<re.Match object; span=(140, 141), match='s'>\n",
      "<re.Match object; span=(142, 143), match='b'>\n",
      "<re.Match object; span=(143, 144), match='i'>\n",
      "<re.Match object; span=(144, 145), match='r'>\n",
      "<re.Match object; span=(145, 146), match='t'>\n",
      "<re.Match object; span=(146, 147), match='h'>\n",
      "<re.Match object; span=(147, 148), match='d'>\n",
      "<re.Match object; span=(148, 149), match='a'>\n",
      "<re.Match object; span=(149, 150), match='y'>\n",
      "<re.Match object; span=(151, 152), match='i'>\n",
      "<re.Match object; span=(152, 153), match='s'>\n",
      "<re.Match object; span=(154, 155), match='0'>\n",
      "<re.Match object; span=(155, 156), match='1'>\n",
      "<re.Match object; span=(157, 158), match='0'>\n",
      "<re.Match object; span=(158, 159), match='1'>\n",
      "<re.Match object; span=(160, 161), match='2'>\n",
      "<re.Match object; span=(161, 162), match='0'>\n",
      "<re.Match object; span=(162, 163), match='0'>\n",
      "<re.Match object; span=(163, 164), match='0'>\n",
      "<re.Match object; span=(167, 168), match='O'>\n",
      "<re.Match object; span=(168, 169), match='u'>\n",
      "<re.Match object; span=(169, 170), match='r'>\n",
      "<re.Match object; span=(171, 172), match='o'>\n",
      "<re.Match object; span=(172, 173), match='f'>\n",
      "<re.Match object; span=(173, 174), match='f'>\n",
      "<re.Match object; span=(174, 175), match='i'>\n",
      "<re.Match object; span=(175, 176), match='c'>\n",
      "<re.Match object; span=(176, 177), match='e'>\n",
      "<re.Match object; span=(178, 179), match='c'>\n",
      "<re.Match object; span=(179, 180), match='o'>\n",
      "<re.Match object; span=(180, 181), match='n'>\n",
      "<re.Match object; span=(181, 182), match='t'>\n",
      "<re.Match object; span=(182, 183), match='a'>\n",
      "<re.Match object; span=(183, 184), match='c'>\n",
      "<re.Match object; span=(184, 185), match='t'>\n",
      "<re.Match object; span=(186, 187), match='i'>\n",
      "<re.Match object; span=(187, 188), match='s'>\n",
      "<re.Match object; span=(190, 191), match='9'>\n",
      "<re.Match object; span=(191, 192), match='1'>\n",
      "<re.Match object; span=(193, 194), match='9'>\n",
      "<re.Match object; span=(194, 195), match='8'>\n",
      "<re.Match object; span=(195, 196), match='7'>\n",
      "<re.Match object; span=(196, 197), match='6'>\n",
      "<re.Match object; span=(197, 198), match='5'>\n",
      "<re.Match object; span=(198, 199), match='4'>\n",
      "<re.Match object; span=(199, 200), match='3'>\n",
      "<re.Match object; span=(200, 201), match='2'>\n",
      "<re.Match object; span=(201, 202), match='1'>\n",
      "<re.Match object; span=(202, 203), match='0'>\n",
      "<re.Match object; span=(204, 205), match='o'>\n",
      "<re.Match object; span=(205, 206), match='r'>\n",
      "<re.Match object; span=(207, 208), match='9'>\n",
      "<re.Match object; span=(208, 209), match='8'>\n",
      "<re.Match object; span=(209, 210), match='7'>\n",
      "<re.Match object; span=(211, 212), match='6'>\n",
      "<re.Match object; span=(212, 213), match='5'>\n",
      "<re.Match object; span=(213, 214), match='4'>\n",
      "<re.Match object; span=(215, 216), match='3'>\n",
      "<re.Match object; span=(216, 217), match='2'>\n",
      "<re.Match object; span=(217, 218), match='1'>\n",
      "<re.Match object; span=(218, 219), match='0'>\n",
      "<re.Match object; span=(222, 223), match='M'>\n",
      "<re.Match object; span=(223, 224), match='y'>\n",
      "<re.Match object; span=(225, 226), match='b'>\n",
      "<re.Match object; span=(226, 227), match='a'>\n",
      "<re.Match object; span=(227, 228), match='n'>\n",
      "<re.Match object; span=(228, 229), match='k'>\n",
      "<re.Match object; span=(230, 231), match='b'>\n",
      "<re.Match object; span=(231, 232), match='a'>\n",
      "<re.Match object; span=(232, 233), match='l'>\n",
      "<re.Match object; span=(233, 234), match='a'>\n",
      "<re.Match object; span=(234, 235), match='n'>\n",
      "<re.Match object; span=(235, 236), match='c'>\n",
      "<re.Match object; span=(236, 237), match='e'>\n",
      "<re.Match object; span=(238, 239), match='i'>\n",
      "<re.Match object; span=(239, 240), match='s'>\n",
      "<re.Match object; span=(241, 242), match='1'>\n",
      "<re.Match object; span=(242, 243), match='5'>\n",
      "<re.Match object; span=(243, 244), match='0'>\n",
      "<re.Match object; span=(244, 245), match='0'>\n",
      "<re.Match object; span=(245, 246), match='0'>\n",
      "<re.Match object; span=(247, 248), match='7'>\n",
      "<re.Match object; span=(248, 249), match='5'>\n",
      "<re.Match object; span=(250, 251), match='a'>\n",
      "<re.Match object; span=(251, 252), match='n'>\n",
      "<re.Match object; span=(252, 253), match='d'>\n",
      "<re.Match object; span=(254, 255), match='m'>\n",
      "<re.Match object; span=(255, 256), match='y'>\n",
      "<re.Match object; span=(257, 258), match='z'>\n",
      "<re.Match object; span=(258, 259), match='i'>\n",
      "<re.Match object; span=(259, 260), match='p'>\n",
      "<re.Match object; span=(261, 262), match='c'>\n",
      "<re.Match object; span=(262, 263), match='o'>\n",
      "<re.Match object; span=(263, 264), match='d'>\n",
      "<re.Match object; span=(264, 265), match='e'>\n",
      "<re.Match object; span=(266, 267), match='i'>\n",
      "<re.Match object; span=(267, 268), match='s'>\n",
      "<re.Match object; span=(269, 270), match='5'>\n",
      "<re.Match object; span=(270, 271), match='6'>\n",
      "<re.Match object; span=(271, 272), match='0'>\n",
      "<re.Match object; span=(272, 273), match='0'>\n",
      "<re.Match object; span=(273, 274), match='0'>\n",
      "<re.Match object; span=(274, 275), match='1'>\n",
      "<re.Match object; span=(278, 279), match='V'>\n",
      "<re.Match object; span=(279, 280), match='i'>\n",
      "<re.Match object; span=(280, 281), match='s'>\n",
      "<re.Match object; span=(281, 282), match='i'>\n",
      "<re.Match object; span=(282, 283), match='t'>\n",
      "<re.Match object; span=(284, 285), match='u'>\n",
      "<re.Match object; span=(285, 286), match='s'>\n",
      "<re.Match object; span=(287, 288), match='a'>\n",
      "<re.Match object; span=(288, 289), match='t'>\n",
      "<re.Match object; span=(290, 291), match='w'>\n",
      "<re.Match object; span=(291, 292), match='w'>\n",
      "<re.Match object; span=(292, 293), match='w'>\n",
      "<re.Match object; span=(294, 295), match='e'>\n",
      "<re.Match object; span=(295, 296), match='x'>\n",
      "<re.Match object; span=(296, 297), match='a'>\n",
      "<re.Match object; span=(297, 298), match='m'>\n",
      "<re.Match object; span=(298, 299), match='p'>\n",
      "<re.Match object; span=(299, 300), match='l'>\n",
      "<re.Match object; span=(300, 301), match='e'>\n",
      "<re.Match object; span=(302, 303), match='s'>\n",
      "<re.Match object; span=(303, 304), match='i'>\n",
      "<re.Match object; span=(304, 305), match='t'>\n",
      "<re.Match object; span=(305, 306), match='e'>\n",
      "<re.Match object; span=(307, 308), match='c'>\n",
      "<re.Match object; span=(308, 309), match='o'>\n",
      "<re.Match object; span=(309, 310), match='m'>\n",
      "<re.Match object; span=(311, 312), match='f'>\n",
      "<re.Match object; span=(312, 313), match='o'>\n",
      "<re.Match object; span=(313, 314), match='r'>\n",
      "<re.Match object; span=(315, 316), match='m'>\n",
      "<re.Match object; span=(316, 317), match='o'>\n",
      "<re.Match object; span=(317, 318), match='r'>\n",
      "<re.Match object; span=(318, 319), match='e'>\n",
      "<re.Match object; span=(320, 321), match='i'>\n",
      "<re.Match object; span=(321, 322), match='n'>\n",
      "<re.Match object; span=(322, 323), match='f'>\n",
      "<re.Match object; span=(323, 324), match='o'>\n"
     ]
    }
   ],
   "source": [
    "para = \"\"\"\n",
    "Hello, my name is Akash. \n",
    "You can email me at akash.test123@example.com or support@my-site.co.in. \n",
    "I was born on 12-08-1995, and my friend’s birthday is 01/01/2000. \n",
    "Our office contact is +91-9876543210 or 987-654-3210. \n",
    "My bank balance is 15000.75 and my zip code is 560001. \n",
    "Visit us at www.example-site.com for more info!\n",
    "\"\"\"\n",
    "pattern = re.compile(r'\\w')\n",
    "matches = pattern.finditer(para)\n",
    "for match in matches:\n",
    "    print(match)\n"
   ]
  },
  {
   "cell_type": "markdown",
   "id": "eeff20dc-90d4-41ea-aa99-f7ad17948237",
   "metadata": {},
   "source": [
    "## 15)Functional Programming"
   ]
  },
  {
   "cell_type": "markdown",
   "id": "e061344c-cee4-456d-976c-f36dc9bd9799",
   "metadata": {},
   "source": [
    "**Python follow procedural programming paradime**  \n",
    "- Like a recipe which has process  \n",
    "- Global state  "
   ]
  },
  {
   "cell_type": "markdown",
   "id": "f0e16c00-b927-413d-a874-246d9ad80749",
   "metadata": {},
   "source": [
    "**Functional Programming**  \n",
    "- Hates Global State, _as it wants to be constant throughout the programme and no hidden changes in it should be.  \n",
    "- Based on Lambda Calculus.  \n",
    "- Function are first class.  \n",
    "**Optimizations**  \n",
    "- If results are not needed we dont call.    \n",
    "- If a pure function is called twice ,remember result `memoization`. eg: doing recursive febonacci series.  \n",
    "- `inlining` , eg: instead of `add(a,b)` we do `1+3` directly in code.\n",
    "- tail recursion{idk}  \n",
    "**Lazy Evaluation**\n",
    "- Python delays work until it's actually needed.\n",
    "- Instead of calculating everything right away, Python waits until you actually ask for the result.\n",
    "This saves time and memory when working with large data"
   ]
  },
  {
   "cell_type": "markdown",
   "id": "94d15e58-c721-498b-90b3-f9fe6f0fcaf4",
   "metadata": {},
   "source": [
    "**<span style = \"color : red\">Coding style that treats computation as evaluation of functions.</span>**  \n",
    "MAIN IDEA: write _small_, _pure functions_ that dont change outside state,and combine them to do bigger tasks.  \n",
    "i.e transforming data instead of telling computer how to change things step ny step.  \n",
    "  \n",
    "  \n",
    "**WHY FP?**  \n",
    "- Predictability: Pure functions return same output for same inputs [easier to test]\n",
    "- Less Bugs: Fewer side effects means fewer hidden interactions.\n",
    "- Parallel-friendly: No shared mutable state.\n",
    "- Composable: Small functions can be combined to from bigger logic cleanly."
   ]
  },
  {
   "cell_type": "markdown",
   "id": "fbd37339-ef54-4202-89bd-dce71b401add",
   "metadata": {},
   "source": [
    "**<span style = \"color:purple\">Interview-ready answer</span>**  \n",
    "_Functional Programming is a style where you build programs by composing pure functions that avoid shared mutable state and side effects. In Python that looks like using functions as first-class objects, higher-order functions, map/filter/reduce, and comprehensions. This makes code easier to test and reason about and helps with parallelism—though in Python you balance readability and performance._"
   ]
  },
  {
   "cell_type": "markdown",
   "id": "c7a43922-84a8-44a7-9391-4c4c34b8cd35",
   "metadata": {},
   "source": [
    "**1. Pure function**\n",
    "Deterministic, no side effects."
   ]
  },
  {
   "cell_type": "code",
   "execution_count": 316,
   "id": "5a8c418b-d659-41f8-9a47-9faa1e22af19",
   "metadata": {},
   "outputs": [],
   "source": [
    "def addd(a, b):\n",
    "    return a + b  # pure"
   ]
  },
  {
   "cell_type": "markdown",
   "id": "1a238710-362f-480a-8767-9b8a2d45dd83",
   "metadata": {},
   "source": [
    "**2. Impure function (what to avoid)**\n",
    "Changes external state or depends on it."
   ]
  },
  {
   "cell_type": "code",
   "execution_count": 318,
   "id": "0de607d3-ee78-4f71-8b1f-85f76ca9eda3",
   "metadata": {},
   "outputs": [],
   "source": [
    "total = 0\n",
    "def add_to_total(x):\n",
    "    global total\n",
    "    total += x   # impure (side effect)"
   ]
  },
  {
   "cell_type": "markdown",
   "id": "ff6dcdcf-328f-4c2a-a6e6-36c5fc6f7fc3",
   "metadata": {},
   "source": [
    "**3. Composition**\n",
    "Chain small funcs into bigger ones."
   ]
  },
  {
   "cell_type": "code",
   "execution_count": 320,
   "id": "55b19c44-3166-45ae-aa9b-94fb15848016",
   "metadata": {},
   "outputs": [
    {
     "data": {
      "text/plain": [
       "7"
      ]
     },
     "execution_count": 320,
     "metadata": {},
     "output_type": "execute_result"
    }
   ],
   "source": [
    "def f(x): return x+1\n",
    "def g(x): return x*2\n",
    "h = lambda x: f(g(x))  # h(x) = f(g(x))\n",
    "h(3)  # 7"
   ]
  },
  {
   "cell_type": "markdown",
   "id": "480e39ba-908c-44c9-998b-f80de5698d5f",
   "metadata": {},
   "source": [
    "### **SOME IMPORTANT FUNCTIONS**"
   ]
  },
  {
   "cell_type": "markdown",
   "id": "4cbd8737-7915-4b65-87a8-5f6d228798ce",
   "metadata": {},
   "source": [
    "1) `map(function, iterable)` : Imagine a conveyor belt of items (list). map passes each item through the same transformation function and returns a new conveyor belt."
   ]
  },
  {
   "cell_type": "code",
   "execution_count": 347,
   "id": "19a71127-b293-4a4f-ba8a-bff0d82f2446",
   "metadata": {},
   "outputs": [
    {
     "name": "stdout",
     "output_type": "stream",
     "text": [
      "[1, 4, 9, 16]\n"
     ]
    }
   ],
   "source": [
    "nums = [1, 2, 3, 4]\n",
    "squares = map(lambda x: x**2, nums)  # Each number squared\n",
    "print(list(squares))"
   ]
  },
  {
   "cell_type": "markdown",
   "id": "6dab1a4a-4069-403d-9c73-49f79dde8bb8",
   "metadata": {
    "jp-MarkdownHeadingCollapsed": true
   },
   "source": [
    "### Example "
   ]
  },
  {
   "cell_type": "markdown",
   "id": "02decaba-ddc9-4541-b565-3e004f3cbb29",
   "metadata": {},
   "source": [
    "`filter` = select only what passes the condition.  \n",
    "`map` = transform each item in the same way.  \n",
    "`compose` = combine functions like Lego blocks.  \n",
    "In Python, list comprehensions often replace map + filter for readability, but knowing them is important for interviews.\n",
    "\n"
   ]
  },
  {
   "cell_type": "markdown",
   "id": "eb246e6c-c36b-4534-9465-d38b07ea5e36",
   "metadata": {},
   "source": [
    " 1) Wap Given a list of strings, return a new list with strings capitalized that are longer than 3 chars. (use filter+map or comprehension)."
   ]
  },
  {
   "cell_type": "code",
   "execution_count": 322,
   "id": "795b2a41-738d-449d-a490-4a56394dce4d",
   "metadata": {},
   "outputs": [
    {
     "name": "stdout",
     "output_type": "stream",
     "text": [
      "['Hello', 'World', 'Python']\n"
     ]
    }
   ],
   "source": [
    "#WITHOUT FP\n",
    "words = [\"hi\", \"hello\", \"world\", \"cat\", \"python\"]\n",
    "results = []\n",
    "for w in words:\n",
    "    if len(w) > 3:      # condition\n",
    "        results.append(w.capitalize())  # transform\n",
    "print(results)  # ['Hello', 'World', 'Python']"
   ]
  },
  {
   "cell_type": "code",
   "execution_count": null,
   "id": "a466a0e7-25bb-4c4f-87c1-543fcf980796",
   "metadata": {},
   "outputs": [],
   "source": [
    "#WITH FP\n",
    "# Step A: keep only words longer than 3 chars\n",
    "long_words = filter(lambda w: len(w) > 3, words)\n",
    "# Step B: capitalize each word\n",
    "capitalized = map(lambda w: w.capitalize(), long_words)\n",
    "# Step C: turn result into a list\n",
    "result = list(capitalized)\n",
    "print(result)  # ['Hello', 'World', 'Python']"
   ]
  },
  {
   "cell_type": "markdown",
   "id": "fab5c77f-b73e-4dfc-a0bc-63ff1970fd8a",
   "metadata": {},
   "source": [
    "2. WAP From text, extract all integers using regex and compute their sum."
   ]
  },
  {
   "cell_type": "code",
   "execution_count": 337,
   "id": "96dea515-2618-48ec-8d0e-fe596815612e",
   "metadata": {},
   "outputs": [
    {
     "name": "stdout",
     "output_type": "stream",
     "text": [
      "['H', 'e', 'l', 'l', 'o', 'W', 'o', 'r', 'l', 'd']\n"
     ]
    }
   ],
   "source": [
    "a = \"Hello World\"\n",
    "result = []\n",
    "for w in a.split():       # w = \"Hello\", then \"World\"\n",
    "    for ch in w:          # ch = 'H', 'e', 'l', 'l', 'o' ...\n",
    "        result.append(ch)\n",
    "print(result)\n"
   ]
  },
  {
   "cell_type": "code",
   "execution_count": 344,
   "id": "02102342-3d3a-457f-8214-4dd296ca392c",
   "metadata": {},
   "outputs": [
    {
     "name": "stdout",
     "output_type": "stream",
     "text": [
      "['h', 'e', 'l', 'l', 'o', 't', 'h', 'e', 'r', 'e', '1', '2', '3', 'h', 'i', 'h', 'o', 'w', 'a', 'r', 'a', 'e', 'y', 'o', 'u', 'o', '1', '2', '0', '2']\n",
      "['1', '2', '3', '1', '2', '0', '2']\n"
     ]
    }
   ],
   "source": [
    "a = \"hellothere123hi how arae youo 120 2 \"\n",
    "letters = [ch for w in a.split() for ch in w]\n",
    "print(letters)\n",
    "number = filter(lambda ch: ch.isdigit(), letters)\n",
    "print(list(number))"
   ]
  },
  {
   "cell_type": "markdown",
   "id": "edfa7598-74d0-40c9-9803-68d6498468d1",
   "metadata": {},
   "source": [
    "## 16)"
   ]
  },
  {
   "cell_type": "markdown",
   "id": "8bbe7334-16c5-4f8a-b2c2-c7ead965182b",
   "metadata": {},
   "source": [
    "## 17)"
   ]
  },
  {
   "cell_type": "code",
   "execution_count": null,
   "id": "b868ff47-12db-4521-b1d5-f68db9c5e1f3",
   "metadata": {},
   "outputs": [],
   "source": []
  }
 ],
 "metadata": {
  "kernelspec": {
   "display_name": "Python 3 (ipykernel)",
   "language": "python",
   "name": "python3"
  },
  "language_info": {
   "codemirror_mode": {
    "name": "ipython",
    "version": 3
   },
   "file_extension": ".py",
   "mimetype": "text/x-python",
   "name": "python",
   "nbconvert_exporter": "python",
   "pygments_lexer": "ipython3",
   "version": "3.12.3"
  }
 },
 "nbformat": 4,
 "nbformat_minor": 5
}
